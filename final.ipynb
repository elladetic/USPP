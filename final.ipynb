{
 "cells": [
  {
   "cell_type": "markdown",
   "metadata": {},
   "source": [
    "# Spectral Relaxation for K-means Clustering - Code"
   ]
  },
  {
   "cell_type": "markdown",
   "metadata": {},
   "source": [
    "Josipa Radnić, Tea Maričić, Lara Milić, Eleonora Detić"
   ]
  },
  {
   "cell_type": "markdown",
   "metadata": {},
   "source": [
    "#### 1. Matrična formulacija k sredina"
   ]
  },
  {
   "cell_type": "markdown",
   "metadata": {},
   "source": [
    "Prvo ćemo presložiti matricu podataka(**A**) na način da združimo one elemente koji pripadaju istom klasteru i napravimo od njih blokove. Nakon toga, pomoću kreiranih blokova, računamo broj elementa klastera(**$s_i$**) i nove centroide (**$m_i$**). Potom kreiramo matricu X pomoću jediničnih vektora i $s_i$ na način koji smo opisali na predavanjima. Na kraju, preostaje ponovo inverzno djelovati istom permutacijom na matricu $X$ kako bismo dobili $\\tilde{X}$ koja sadrži informacije o pripadnosti elementa početnoj particiji."
   ]
  },
  {
   "cell_type": "code",
   "execution_count": 1,
   "metadata": {},
   "outputs": [],
   "source": [
    "from sklearn.metrics import accuracy_score\n",
    "import numpy as np\n",
    "import pandas as pd\n",
    "\n",
    "def matrix_formulation_Kmeans(A, D, k): \n",
    "    #A is data matrix\n",
    "    #D is list of correct clasters for columns of A\n",
    "    #k is number of clasters\n",
    "    \n",
    "    new_A = np.empty([A.shape[0],0])\n",
    "    s_i = np.empty(k, dtype=int) \n",
    "    m_i = np.empty([A.shape[0],k])\n",
    "    permutation = np.empty(0,) \n",
    "\n",
    "    for i in range(k):\n",
    "        A_i = A[:, np.where(D == i)[1]] \n",
    "        permutation = np.append(permutation, np.where(D == i)[1], axis=0) \n",
    "        new_A = np.append(new_A, A_i, axis=1)\n",
    "        s_i[i] = np.where(D == i)[1].shape[0]\n",
    "        e = np.ones(s_i[i])\n",
    "        m_i[:,i] = (1/s_i[i]) * np.matmul(A_i, e) \n",
    "    \n",
    "    X = np.zeros([A.shape[1],k])\n",
    "\n",
    "    for i in range(k):\n",
    "        if( i == 0):\n",
    "            X[i:s_i[i], 0] = 1/s_i[1]\n",
    "        else:\n",
    "            X[ s_i[0:i].sum() : s_i[0:i].sum() + s_i[i], i] = 1/s_i[i-1]\n",
    "\n",
    "    X_tilde = np.zeros([A.shape[1],k])\n",
    "\n",
    "    for i in range(X.shape[0]):\n",
    "        index = list(permutation).index(i)  \n",
    "        X_tilde[int(permutation[i]), :] = X[i, :] \n",
    "\n",
    "    start_partition = np.empty(D.shape[1], dtype=int)\n",
    "\n",
    "    for i in range(X.shape[0]):\n",
    "        start_partition[i] = int(np.where(X_tilde[i, :] != 0)[0])\n",
    "    \n",
    "    start_partition = np.reshape(start_partition, (D.shape[1],1))\n",
    "    accuracy = accuracy_score(start_partition, np.transpose(D))\n",
    "    return accuracy"
   ]
  },
  {
   "cell_type": "markdown",
   "metadata": {},
   "source": [
    "#### 2.1 K-means algoritam 1"
   ]
  },
  {
   "cell_type": "markdown",
   "metadata": {},
   "source": [
    "U ovom poglavlju navodimo učinkovitu verziju k-means algoritma za klasteriranje koristeći metode linearne algebre."
   ]
  },
  {
   "cell_type": "code",
   "execution_count": 2,
   "metadata": {},
   "outputs": [],
   "source": [
    "def K_means_1(A_train, A_test, D_train, D_test, k): \n",
    "    # A_train and A_test are data matrix\n",
    "    # D_train and D_test are arrays\n",
    "    # k is number of clasters\n",
    "    \n",
    "    base_for_k_elements = dict()\n",
    "    \n",
    "    for i in range (k):\n",
    "        ii = [j for j, x in enumerate(D_train) if x == i] \n",
    "        B = A_train[:,ii]\n",
    "        U, S, V = np.linalg.svd(B)\n",
    "        base_for_k_elements[i] = U[:, 0:k]\n",
    "    \n",
    "    solution = np.zeros(len(D_test))\n",
    "    \n",
    "    for i in range (len(D_test)):\n",
    "        min_distance = np.inf \n",
    "        claster = 0\n",
    "        for j in range (0,k):\n",
    "            distance = np.linalg.norm(A_test[:,i] - np.dot(np.dot(base_for_k_elements[j], base_for_k_elements[j].T),A_test[:,i]))\n",
    "            if (distance < min_distance):\n",
    "                min_distance = distance\n",
    "                claster = j \n",
    "        solution[i] = claster\n",
    "    \n",
    "    return accuracy_score(solution, D_test)"
   ]
  },
  {
   "cell_type": "markdown",
   "metadata": {},
   "source": [
    "#### 2.2 K-means algoritam 2"
   ]
  },
  {
   "cell_type": "markdown",
   "metadata": {},
   "source": [
    "U ovom poglavlju navodimo jednostavnu, standardnu verziju k-means algoritma koja klasterira podatke."
   ]
  },
  {
   "cell_type": "code",
   "execution_count": 3,
   "metadata": {},
   "outputs": [],
   "source": [
    "def K_means_2(A, starting_partition, k, epsilon): \n",
    "    #A is data frame, one data is one present as one column\n",
    "    #starting_partition is starting partition, usually random\n",
    "    #k is number of clasters\n",
    "    #epsilon is small number, stop criterion\n",
    "    \n",
    "    A.columns = starting_partition\n",
    "    partition = starting_partition\n",
    "\n",
    "    number_of_iteration = 0\n",
    "    Q_of_partition = np.inf\n",
    "\n",
    "    while(Q_of_partition > epsilon):\n",
    "    \n",
    "        number_of_iteration += 1\n",
    "\n",
    "        s_i = np.unique(partition, axis=0, return_counts=True)[1]\n",
    "        a_i = A.groupby(level=0,axis=1).sum().add_suffix('. centroid')\n",
    "        m_i = a_i / s_i \n",
    "    \n",
    "        Q_of_partition_before = 0\n",
    "        for i in range(A.shape[1]):\n",
    "            Q_of_partition_before  += np.linalg.norm((A.iloc[:,i] - m_i.iloc[:,A.columns[i]]))\n",
    "        \n",
    "        \n",
    "        for i in range(A.shape[1]): \n",
    "            distance_final = np.inf\n",
    "            for j in range(0, m_i.shape[1]):\n",
    "                distance = np.linalg.norm((A.iloc[:,i] - m_i.iloc[:,j]))\n",
    "                if(distance < distance_final):\n",
    "                    distance_final = distance\n",
    "                    tmp = list(A.columns)\n",
    "                    tmp[i] = j\n",
    "                    A.columns = tmp \n",
    "                \n",
    "        partition = A.columns.values\n",
    "    \n",
    "        Q_of_partition_after = 0\n",
    "        for i in range(A.shape[1]):\n",
    "            Q_of_partition_after  += np.linalg.norm((A.iloc[:,i] - m_i.iloc[:,A.columns[i]]))\n",
    "    \n",
    "        Q_of_partition = Q_of_partition_before - Q_of_partition_after\n",
    "\n",
    "    return number_of_iteration, m_i, A.columns\n"
   ]
  },
  {
   "cell_type": "markdown",
   "metadata": {},
   "source": [
    "#### 3.1 Spektralna relaksacija"
   ]
  },
  {
   "cell_type": "markdown",
   "metadata": {},
   "source": [
    "Koristeći spektralnu relaksaciju, cilj je smanjiti  dimenzije matrice A, ali svejedno očuvati sve potrebne informacije. Koristeći rezulate članka, vidimo da je dovoljno uzeti samo prvih k svojstvenih vektora koji odgovaraju k najvećim svojstvenim vrijednostima. Na taj način formiramo matricu X_k na čije retke primjenjujemo k-means. Svaki podatak više nije $m \\times 1$, već $k \\times 1$."
   ]
  },
  {
   "cell_type": "code",
   "execution_count": 4,
   "metadata": {},
   "outputs": [],
   "source": [
    "from scipy.linalg import eigh\n",
    "import numpy as np\n",
    "\n",
    "def spectral_relaxation(A,k):\n",
    "    #A is data matrix, one column is one data\n",
    "\n",
    "    eigenvalues, eigenvectors = eigh(np.transpose(A) @ A) \n",
    "    \n",
    "    eigenvalues = eigenvalues[A.shape[1]-k:A.shape[1]][::-1] \n",
    "    X_k = np.flip(eigenvectors[:, (A.shape[1]-k):A.shape[1]] ,axis=1)\n",
    "    \n",
    "    return X_k"
   ]
  },
  {
   "cell_type": "markdown",
   "metadata": {},
   "source": [
    "#### 3.2 QR faktorizacija"
   ]
  },
  {
   "cell_type": "markdown",
   "metadata": {},
   "source": [
    "Daljni pokušaji poboljšanja k-means algoritma tiču se početne particije. Naime, voljeli bismo nekako dobiti najbolju moguću početnu particiju. Prije je bila ona bila random, sada bismo je voljeli nekako specificirati i reći da imamo najbolju moguću. Šta god \"najbolje moguće\" značilo."
   ]
  },
  {
   "cell_type": "code",
   "execution_count": 5,
   "metadata": {},
   "outputs": [],
   "source": [
    "def QR_for_starting_partition(A,k):\n",
    "    #A is data matrix, one column is one data\n",
    "    \n",
    "    X_k = spectral_relaxation(A,k)\n",
    "    X_k = np.transpose(X_k)\n",
    "\n",
    "    Q, R, P = scipy.linalg.qr(X_k, pivoting = True)\n",
    "    P_ = np.zeros([A.shape[1],A.shape[1]])\n",
    "    for i in range(A.shape[1]):\n",
    "        P_[i,P[i]] = 1\n",
    "\n",
    "    R_11 = R[0:k, 0:k]\n",
    "    R_12 = R[0:k, k:R.shape[1]]\n",
    "    I = np.eye(k, dtype=int)\n",
    "    R = np.matmul(np.linalg.inv(R_11), R_12)\n",
    "\n",
    "    R_kapa = np.append(I,R,axis=1)  @  np.transpose(P_)\n",
    "    R_kapa = np.absolute(R_kapa)\n",
    "    \n",
    "    return np.argmax(R_kapa, axis=0)"
   ]
  },
  {
   "cell_type": "markdown",
   "metadata": {},
   "source": [
    "#### 4. 1 K-means koristeći spektralnu relaksaciju"
   ]
  },
  {
   "cell_type": "code",
   "execution_count": 6,
   "metadata": {},
   "outputs": [],
   "source": [
    "def p_K_means(A,k,epsilon):\n",
    "    \n",
    "    X_k = spectral_relaxation(A, k)\n",
    "    X_k = np.transpose(X_k)\n",
    "    \n",
    "    while True: \n",
    "        starting_partition = np.random.randint(0, k, A.shape[1])\n",
    "        s_i = np.unique(starting_partition, axis=0, return_counts=True)[1]\n",
    "        if len(s_i) == k:\n",
    "            break\n",
    "    \n",
    "    return K_means_2(pd.DataFrame(X_k), starting_partition, k, epsilon)\n",
    "    "
   ]
  },
  {
   "cell_type": "markdown",
   "metadata": {},
   "source": [
    "#### 4.2 K-means koristeći QR"
   ]
  },
  {
   "cell_type": "code",
   "execution_count": 7,
   "metadata": {},
   "outputs": [],
   "source": [
    "def p_QR(A,k,epsilon):\n",
    "    \n",
    "    X_k = spectral_relaxation(A,k)\n",
    "    X_k = np.transpose(X_k)\n",
    "    \n",
    "    starting_partition = QR_for_starting_partition(A, k)\n",
    "\n",
    "    \n",
    "    return K_means_2(pd.DataFrame(X_k), starting_partition, k, epsilon)"
   ]
  },
  {
   "cell_type": "markdown",
   "metadata": {},
   "source": [
    "#### 4.3 K-means za prediktiranje"
   ]
  },
  {
   "cell_type": "code",
   "execution_count": 133,
   "metadata": {},
   "outputs": [],
   "source": [
    "from sklearn.model_selection import train_test_split\n",
    "import statistics\n",
    "from statistics import mode\n",
    "\n",
    "def K_means_predict(A, D, k, epsilon):\n",
    "    #A is data matrix, one column is one data\n",
    "    #D is array of real clasters\n",
    "    #k is number of clasters\n",
    "    #epsilon is stop criterion\n",
    "    \n",
    "    partition = np.array(p_QR(A,k,epsilon)[2])\n",
    "    D_informations = np.vstack([D, partition]) \n",
    "    A_informations = np.vstack([A, partition])\n",
    "\n",
    "    A_train, A_test, D_train, D_test = train_test_split(np.transpose(A_informations), np.transpose(D_informations), test_size=0.33, random_state=42)\n",
    "    A_train = np.transpose(A_train)\n",
    "    A_test= np.transpose(A_test)\n",
    "    D_train = np.transpose(D_train)\n",
    "    D_test = np.transpose(D_test)\n",
    "\n",
    "    solution = np.zeros(D_test[0].shape[0])\n",
    "\n",
    "    for i in range(D_test[0].shape[0]):\n",
    "        claster = D_test[1][i]\n",
    "        index = np.where(A_train[-1, :] == claster)[0]\n",
    "        numbers = D_train[0][index]\n",
    "        if(numbers.size != 0 ):\n",
    "            solution[i] = mode(numbers)\n",
    "    \n",
    "\n",
    "    return np.sum(D_test[0] == solution) / D_test[0].shape[0]   "
   ]
  },
  {
   "cell_type": "markdown",
   "metadata": {},
   "source": [
    "#### 5.1 Podaci - znamenke"
   ]
  },
  {
   "cell_type": "code",
   "execution_count": 9,
   "metadata": {},
   "outputs": [],
   "source": [
    "import scipy.io\n",
    "\n",
    "mat_1 = scipy.io.loadmat('azip.mat')\n",
    "A_digits = mat_1['azip'] \n",
    "\n",
    "mat_2 = scipy.io.loadmat('dzip.mat')\n",
    "D_digits = mat_2['dzip']\n",
    "\n",
    "k_digits = 10 \n",
    "\n",
    "epsilon_digits = 1e-8"
   ]
  },
  {
   "cell_type": "code",
   "execution_count": 11,
   "metadata": {},
   "outputs": [],
   "source": [
    "#K_means_predict(A_digits, D_digits, k_digits, epsilon_digits)"
   ]
  },
  {
   "cell_type": "markdown",
   "metadata": {},
   "source": [
    "#### 5.2 Podaci - pacijenti"
   ]
  },
  {
   "cell_type": "code",
   "execution_count": null,
   "metadata": {},
   "outputs": [
    {
     "data": {
      "text/html": [
       "<div>\n",
       "<style scoped>\n",
       "    .dataframe tbody tr th:only-of-type {\n",
       "        vertical-align: middle;\n",
       "    }\n",
       "\n",
       "    .dataframe tbody tr th {\n",
       "        vertical-align: top;\n",
       "    }\n",
       "\n",
       "    .dataframe thead th {\n",
       "        text-align: right;\n",
       "    }\n",
       "</style>\n",
       "<table border=\"1\" class=\"dataframe\">\n",
       "  <thead>\n",
       "    <tr style=\"text-align: right;\">\n",
       "      <th></th>\n",
       "      <th>age</th>\n",
       "      <th>sex</th>\n",
       "      <th>height</th>\n",
       "      <th>weight</th>\n",
       "      <th>qrs_duration</th>\n",
       "      <th>p-r_interval</th>\n",
       "      <th>q-t_interval</th>\n",
       "      <th>t_interval</th>\n",
       "      <th>p_interval</th>\n",
       "      <th>qrs</th>\n",
       "      <th>...</th>\n",
       "      <th>KY</th>\n",
       "      <th>KZ</th>\n",
       "      <th>LA</th>\n",
       "      <th>LB</th>\n",
       "      <th>LC</th>\n",
       "      <th>LD</th>\n",
       "      <th>LE</th>\n",
       "      <th>LF</th>\n",
       "      <th>LG</th>\n",
       "      <th>diagnosis</th>\n",
       "    </tr>\n",
       "  </thead>\n",
       "  <tbody>\n",
       "    <tr>\n",
       "      <th>0</th>\n",
       "      <td>75.0</td>\n",
       "      <td>0.0</td>\n",
       "      <td>190.0</td>\n",
       "      <td>80.0</td>\n",
       "      <td>91.0</td>\n",
       "      <td>193.0</td>\n",
       "      <td>371.0</td>\n",
       "      <td>174.0</td>\n",
       "      <td>121.0</td>\n",
       "      <td>-16.0</td>\n",
       "      <td>...</td>\n",
       "      <td>0.0</td>\n",
       "      <td>9.0</td>\n",
       "      <td>-0.9</td>\n",
       "      <td>0.0</td>\n",
       "      <td>0.0</td>\n",
       "      <td>0.9</td>\n",
       "      <td>2.9</td>\n",
       "      <td>23.3</td>\n",
       "      <td>49.4</td>\n",
       "      <td>8.0</td>\n",
       "    </tr>\n",
       "    <tr>\n",
       "      <th>1</th>\n",
       "      <td>56.0</td>\n",
       "      <td>1.0</td>\n",
       "      <td>165.0</td>\n",
       "      <td>64.0</td>\n",
       "      <td>81.0</td>\n",
       "      <td>174.0</td>\n",
       "      <td>401.0</td>\n",
       "      <td>149.0</td>\n",
       "      <td>39.0</td>\n",
       "      <td>25.0</td>\n",
       "      <td>...</td>\n",
       "      <td>0.0</td>\n",
       "      <td>8.5</td>\n",
       "      <td>0.0</td>\n",
       "      <td>0.0</td>\n",
       "      <td>0.0</td>\n",
       "      <td>0.2</td>\n",
       "      <td>2.1</td>\n",
       "      <td>20.4</td>\n",
       "      <td>38.8</td>\n",
       "      <td>6.0</td>\n",
       "    </tr>\n",
       "    <tr>\n",
       "      <th>2</th>\n",
       "      <td>54.0</td>\n",
       "      <td>0.0</td>\n",
       "      <td>172.0</td>\n",
       "      <td>95.0</td>\n",
       "      <td>138.0</td>\n",
       "      <td>163.0</td>\n",
       "      <td>386.0</td>\n",
       "      <td>185.0</td>\n",
       "      <td>102.0</td>\n",
       "      <td>96.0</td>\n",
       "      <td>...</td>\n",
       "      <td>0.0</td>\n",
       "      <td>9.5</td>\n",
       "      <td>-2.4</td>\n",
       "      <td>0.0</td>\n",
       "      <td>0.0</td>\n",
       "      <td>0.3</td>\n",
       "      <td>3.4</td>\n",
       "      <td>12.3</td>\n",
       "      <td>49.0</td>\n",
       "      <td>10.0</td>\n",
       "    </tr>\n",
       "    <tr>\n",
       "      <th>3</th>\n",
       "      <td>55.0</td>\n",
       "      <td>0.0</td>\n",
       "      <td>175.0</td>\n",
       "      <td>94.0</td>\n",
       "      <td>100.0</td>\n",
       "      <td>202.0</td>\n",
       "      <td>380.0</td>\n",
       "      <td>179.0</td>\n",
       "      <td>143.0</td>\n",
       "      <td>28.0</td>\n",
       "      <td>...</td>\n",
       "      <td>0.0</td>\n",
       "      <td>12.2</td>\n",
       "      <td>-2.2</td>\n",
       "      <td>0.0</td>\n",
       "      <td>0.0</td>\n",
       "      <td>0.4</td>\n",
       "      <td>2.6</td>\n",
       "      <td>34.6</td>\n",
       "      <td>61.6</td>\n",
       "      <td>1.0</td>\n",
       "    </tr>\n",
       "    <tr>\n",
       "      <th>4</th>\n",
       "      <td>75.0</td>\n",
       "      <td>0.0</td>\n",
       "      <td>190.0</td>\n",
       "      <td>80.0</td>\n",
       "      <td>88.0</td>\n",
       "      <td>181.0</td>\n",
       "      <td>360.0</td>\n",
       "      <td>177.0</td>\n",
       "      <td>103.0</td>\n",
       "      <td>-16.0</td>\n",
       "      <td>...</td>\n",
       "      <td>0.0</td>\n",
       "      <td>13.1</td>\n",
       "      <td>-3.6</td>\n",
       "      <td>0.0</td>\n",
       "      <td>0.0</td>\n",
       "      <td>-0.1</td>\n",
       "      <td>3.9</td>\n",
       "      <td>25.4</td>\n",
       "      <td>62.8</td>\n",
       "      <td>7.0</td>\n",
       "    </tr>\n",
       "  </tbody>\n",
       "</table>\n",
       "<p>5 rows × 280 columns</p>\n",
       "</div>"
      ],
      "text/plain": [
       "    age  sex  height  weight  qrs_duration  p-r_interval  q-t_interval  \\\n",
       "0  75.0  0.0   190.0    80.0          91.0         193.0         371.0   \n",
       "1  56.0  1.0   165.0    64.0          81.0         174.0         401.0   \n",
       "2  54.0  0.0   172.0    95.0         138.0         163.0         386.0   \n",
       "3  55.0  0.0   175.0    94.0         100.0         202.0         380.0   \n",
       "4  75.0  0.0   190.0    80.0          88.0         181.0         360.0   \n",
       "\n",
       "   t_interval  p_interval   qrs  ...   KY    KZ   LA   LB   LC   LD   LE  \\\n",
       "0       174.0       121.0 -16.0  ...  0.0   9.0 -0.9  0.0  0.0  0.9  2.9   \n",
       "1       149.0        39.0  25.0  ...  0.0   8.5  0.0  0.0  0.0  0.2  2.1   \n",
       "2       185.0       102.0  96.0  ...  0.0   9.5 -2.4  0.0  0.0  0.3  3.4   \n",
       "3       179.0       143.0  28.0  ...  0.0  12.2 -2.2  0.0  0.0  0.4  2.6   \n",
       "4       177.0       103.0 -16.0  ...  0.0  13.1 -3.6  0.0  0.0 -0.1  3.9   \n",
       "\n",
       "     LF    LG  diagnosis  \n",
       "0  23.3  49.4        8.0  \n",
       "1  20.4  38.8        6.0  \n",
       "2  12.3  49.0       10.0  \n",
       "3  34.6  61.6        1.0  \n",
       "4  25.4  62.8        7.0  \n",
       "\n",
       "[5 rows x 280 columns]"
      ]
     },
     "execution_count": 41,
     "metadata": {},
     "output_type": "execute_result"
    }
   ],
   "source": [
    "from sklearn.impute import SimpleImputer\n",
    "\n",
    "df = pd.read_csv('data_arrhythmia.csv', delimiter=';')\n",
    "df = df.replace('?', np.NaN)\n",
    "imp = SimpleImputer(missing_values=np.nan, strategy='mean') \n",
    "idf = pd.DataFrame(imp.fit_transform(df))\n",
    "idf.columns = df.columns\n",
    "idf.index = df.index\n",
    "df = idf\n",
    "df.head()"
   ]
  },
  {
   "cell_type": "code",
   "execution_count": null,
   "metadata": {},
   "outputs": [],
   "source": [
    "A_pacients = np.transpose(np.array(df.iloc[:, :-1]))\n",
    "D_pacients = np.array(df.iloc[:, -1])\n",
    "\n",
    "k_pacients = 12\n",
    "epsilon_pacients = 1e-8"
   ]
  },
  {
   "cell_type": "code",
   "execution_count": null,
   "metadata": {},
   "outputs": [
    {
     "data": {
      "text/plain": [
       "0.5466666666666666"
      ]
     },
     "execution_count": 73,
     "metadata": {},
     "output_type": "execute_result"
    }
   ],
   "source": [
    "K_means_predict(A_pacients, D_pacients, k_pacients, epsilon_pacients)"
   ]
  },
  {
   "cell_type": "markdown",
   "metadata": {},
   "source": [
    "#### 5.3 Podaci - odjevni predmeti"
   ]
  },
  {
   "cell_type": "markdown",
   "metadata": {},
   "source": [
    "#opis .."
   ]
  },
  {
   "cell_type": "code",
   "execution_count": 111,
   "metadata": {},
   "outputs": [
    {
     "name": "stdout",
     "output_type": "stream",
     "text": [
      "131\n"
     ]
    }
   ],
   "source": [
    "PATH_TO_IMAGES_FOLDER = r'.\\DataSetFashion\\\\'\n",
    "\n",
    "slika = os.listdir('/Users/eleonoradetic/USPP/DataSetFashion')\n",
    "n = len(slika)\n",
    "print (n)"
   ]
  },
  {
   "cell_type": "code",
   "execution_count": 113,
   "metadata": {},
   "outputs": [],
   "source": [
    "import os\n",
    "import numpy as np\n",
    "import cv2\n",
    "\n",
    "A_clothes = np.empty([12288,0])\n",
    "D_clothes = np.zeros(131)\n",
    "\n",
    "for i in range (n): \n",
    "        img = cv2.imread(os.path.join('/Users/eleonoradetic/USPP/DataSetFashion',slika[i]))\n",
    "        \n",
    "        if((slika[i])[-5] == 'C' or (slika[i])[-6] == 'C'): \n",
    "                D_clothes[i] = 1\n",
    "        elif((slika[i])[-5] == 'T' or (slika[i])[-6] == 'T' ): \n",
    "                D_clothes[i] = 2\n",
    "        else: # (slika[i][-5] == 'M' or slika[i][-6] == 'M' ): \n",
    "                D_clothes[i] = 3\n",
    "                \n",
    "        ims = cv2.resize(img, (64,64))\n",
    "        ims1 = np.reshape(ims,(12288,1))\n",
    "        \n",
    "        A_clothes  = np.append(A_clothes, ims1, axis=1)\n"
   ]
  },
  {
   "cell_type": "code",
   "execution_count": 134,
   "metadata": {},
   "outputs": [
    {
     "data": {
      "text/plain": [
       "0.4318181818181818"
      ]
     },
     "execution_count": 134,
     "metadata": {},
     "output_type": "execute_result"
    }
   ],
   "source": [
    "K_means_predict(A_clothes, D_clothes, 3, 1e-10)"
   ]
  },
  {
   "cell_type": "markdown",
   "metadata": {},
   "source": [
    "#### 5.4 Podaci - točke"
   ]
  },
  {
   "cell_type": "markdown",
   "metadata": {},
   "source": [
    "#### 6. Usporedba rezultata, zaključci"
   ]
  },
  {
   "cell_type": "code",
   "execution_count": 24,
   "metadata": {},
   "outputs": [
    {
     "name": "stderr",
     "output_type": "stream",
     "text": [
      "Exception ignored in: <function tqdm.__del__ at 0x7fee09301e50>\n",
      "Traceback (most recent call last):\n",
      "  File \"/Users/eleonoradetic/opt/anaconda3/lib/python3.8/site-packages/tqdm/std.py\", line 1152, in __del__\n",
      "    self.close()\n",
      "  File \"/Users/eleonoradetic/opt/anaconda3/lib/python3.8/site-packages/tqdm/std.py\", line 1281, in close\n",
      "    if self.last_print_t < self.start_t + self.delay:\n",
      "AttributeError: 'tqdm' object has no attribute 'last_print_t'\n",
      "100%|██████████| 5/5 [03:06<00:00, 37.20s/it]\n"
     ]
    },
    {
     "data": {
      "text/plain": [
       "[<matplotlib.lines.Line2D at 0x7fee08be9d00>]"
      ]
     },
     "execution_count": 24,
     "metadata": {},
     "output_type": "execute_result"
    },
    {
     "data": {
      "image/png": "[encoded data removed]",
      "text/plain": [
       "<Figure size 432x288 with 1 Axes>"
      ]
     },
     "metadata": {
      "needs_background": "light"
     },
     "output_type": "display_data"
    }
   ],
   "source": [
    "import matplotlib.pyplot as plt\n",
    "from tqdm import tqdm\n",
    "\n",
    "x = np.arange(500,505)\n",
    "y = np.zeros(5)\n",
    "\n",
    "for i in tqdm(range(500, 505)):\n",
    "    y[i-500] = K_means_predict(A_digits[:,0:i], D_digits[:, 0:i], k_digits, epsilon_digits)\n",
    "\n",
    "plt.plot(x,y)"
   ]
  },
  {
   "cell_type": "code",
   "execution_count": 34,
   "metadata": {},
   "outputs": [
    {
     "name": "stderr",
     "output_type": "stream",
     "text": [
      "100%|██████████| 50/50 [01:36<00:00,  1.94s/it]\n"
     ]
    },
    {
     "data": {
      "text/plain": [
       "[<matplotlib.lines.Line2D at 0x7fee09041490>]"
      ]
     },
     "execution_count": 34,
     "metadata": {},
     "output_type": "execute_result"
    },
    {
     "data": {
      "image/png": "[encoded data removed]",
      "text/plain": [
       "<Figure size 432x288 with 1 Axes>"
      ]
     },
     "metadata": {
      "needs_background": "light"
     },
     "output_type": "display_data"
    }
   ],
   "source": [
    "x = np.arange(50,100)\n",
    "y = np.zeros(50)\n",
    "\n",
    "for i in tqdm(range(50, 100)):\n",
    "    y[i-50] = K_means_predict(A_digits[:,0:i], D_digits[:, 0:i], k_digits, epsilon_digits)\n",
    "\n",
    "plt.plot(x,y)"
   ]
  },
  {
   "cell_type": "code",
   "execution_count": 61,
   "metadata": {},
   "outputs": [
    {
     "name": "stderr",
     "output_type": "stream",
     "text": [
      "100%|██████████| 10/10 [00:13<00:00,  1.34s/it]\n",
      "100%|██████████| 10/10 [00:12<00:00,  1.25s/it]\n",
      "100%|██████████| 10/10 [00:08<00:00,  1.18it/s]\n"
     ]
    }
   ],
   "source": [
    "x = np.arange(30,50)\n",
    "y_1 = np.zeros(10)\n",
    "y_2 = np.zeros(10)\n",
    "y_3 = np.zeros(10)\n",
    "\n",
    "k = 10\n",
    "\n",
    "for i in tqdm(range(50, 60)):\n",
    "    A = A_digits[:, 0:i]\n",
    "    A = A.byteswap().newbyteorder()\n",
    "    \n",
    "    while True: \n",
    "        starting_partition = np.random.randint(0, k, A.shape[1])\n",
    "        s_i = np.unique(starting_partition, axis=0, return_counts=True)[1]\n",
    "        if len(s_i) == k:\n",
    "            break\n",
    "        \n",
    "    y_1[i-50] = K_means_2(pd.DataFrame(A), starting_partition, 10, 1e-8)[0]\n",
    "    \n",
    "\n",
    "for i in tqdm(range(50, 60)):\n",
    "    y_2[i-50] = p_K_means(A_digits[:, 0:i], 10, 1e-8)[0]\n",
    " \n",
    "for i in tqdm(range(50, 60)):\n",
    "    y_3[i-50] = p_QR(A_digits[:, 0:i], 10, 1e-8)[0]   \n",
    "\n",
    "\n"
   ]
  },
  {
   "cell_type": "code",
   "execution_count": 72,
   "metadata": {},
   "outputs": [
    {
     "data": {
      "image/png": "[encoded data removed]",
      "text/plain": [
       "<Figure size 432x288 with 1 Axes>"
      ]
     },
     "metadata": {
      "needs_background": "light"
     },
     "output_type": "display_data"
    }
   ],
   "source": [
    "x = np.arange(50,60)\n",
    "\n",
    "plt.plot(x, y_1, label = \"K-means\")\n",
    "plt.plot(x, y_2, label = \"Rel. k-means\")\n",
    "plt.plot(x, y_3, label = \"Rel. k-means-QR\")\n",
    "\n",
    "plt.xlabel(\"Broj podataka\")\n",
    "plt.ylabel(\"Broj iteracija\")\n",
    "\n",
    "plt.legend()\n",
    "plt.show()"
   ]
  }
 ],
 "metadata": {
  "interpreter": {
   "hash": "eeb592eeb14baf80ba7e3ad598b9cc718d92fa62785d72005ca19f7c0e0c833d"
  },
  "kernelspec": {
   "display_name": "Python 3.8.5 64-bit ('base': conda)",
   "language": "python",
   "name": "python3"
  },
  "language_info": {
   "codemirror_mode": {
    "name": "ipython",
    "version": 3
   },
   "file_extension": ".py",
   "mimetype": "text/x-python",
   "name": "python",
   "nbconvert_exporter": "python",
   "pygments_lexer": "ipython3",
   "version": "3.8.5"
  },
  "orig_nbformat": 4
 },
 "nbformat": 4,
 "nbformat_minor": 2
}
