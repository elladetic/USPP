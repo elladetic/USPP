{
 "cells": [
  {
   "cell_type": "markdown",
   "metadata": {},
   "source": [
    "### Spectral Relaxation for K-means Clustering"
   ]
  },
  {
   "cell_type": "markdown",
   "metadata": {},
   "source": [
    "First version"
   ]
  },
  {
   "cell_type": "code",
   "execution_count": 87,
   "metadata": {},
   "outputs": [],
   "source": [
    "import numpy as np\n",
    "import pandas as pd\n",
    "from scipy.spatial.distance import cdist \n",
    "from tqdm import tqdm\n",
    "import matplotlib.pyplot as plt"
   ]
  },
  {
   "cell_type": "code",
   "execution_count": 111,
   "metadata": {},
   "outputs": [
    {
     "name": "stdout",
     "output_type": "stream",
     "text": [
      "[[1 1 4 5 5]\n",
      " [1 2 1 1 2]]\n",
      "   0  1  2  3  4\n",
      "0  1  1  4  5  5\n",
      "1  1  2  1  1  2\n"
     ]
    }
   ],
   "source": [
    "A = np.array([[1,1,4,5,5], [1, 2,1,1,2]]) #jednostavna matrica \n",
    "print(A)\n",
    "print(pd.DataFrame(A))"
   ]
  },
  {
   "cell_type": "code",
   "execution_count": 88,
   "metadata": {},
   "outputs": [
    {
     "data": {
      "image/png": "[encoded data removed]",
      "text/plain": [
       "<Figure size 432x288 with 1 Axes>"
      ]
     },
     "metadata": {
      "needs_background": "light"
     },
     "output_type": "display_data"
    }
   ],
   "source": [
    "A = np.array([[1,1,4,5,5,1,1,1,1], [1, 2,1,1,2,0.5,0.8,0.6,0.7]]) #jednostavan primjer\n",
    "plt.plot(A[0,:],A[1,:], 'ro')\n",
    "plt.axis([0, 6, 0, 20])\n",
    "plt.show()"
   ]
  },
  {
   "cell_type": "code",
   "execution_count": 35,
   "metadata": {},
   "outputs": [
    {
     "name": "stdout",
     "output_type": "stream",
     "text": [
      "         0         1          2         3          4         5          6   \\\n",
      "0  8.044549  9.883210  10.303079  9.495095  10.040599  8.177206  10.832563   \n",
      "1  2.225365  3.152283   2.190810  2.518609  -0.086184  1.331959   2.344524   \n",
      "\n",
      "         7         8         9   ...        90        91        92        93  \\\n",
      "0  9.566723  9.501055  9.701080  ... -3.458766 -4.212722 -3.342893 -4.639311   \n",
      "1  1.562739  3.378033  1.761686  ...  1.922130  3.430442  1.554050  4.502817   \n",
      "\n",
      "         94        95        96        97        98        99  \n",
      "0 -4.363386 -3.737367 -4.194781 -4.876594 -5.025584 -5.427860  \n",
      "1  4.640729  1.473368  1.927335  4.679656  3.354687  3.828168  \n",
      "\n",
      "[2 rows x 100 columns]\n"
     ]
    },
    {
     "name": "stderr",
     "output_type": "stream",
     "text": [
      "100%|██████████| 5/5 [00:01<00:00,  4.82it/s]"
     ]
    },
    {
     "name": "stdout",
     "output_type": "stream",
     "text": [
      "          0         0          0         0          0         0          0  \\\n",
      "0  8.044549  9.883210  10.303079  9.495095  10.040599  8.177206  10.832563   \n",
      "1  2.225365  3.152283   2.190810  2.518609  -0.086184  1.331959   2.344524   \n",
      "\n",
      "          0         0         0  ...         1         1         1         1  \\\n",
      "0  9.566723  9.501055  9.701080  ... -3.458766 -4.212722 -3.342893 -4.639311   \n",
      "1  1.562739  3.378033  1.761686  ...  1.922130  3.430442  1.554050  4.502817   \n",
      "\n",
      "          1         1         1         1         1         1  \n",
      "0 -4.363386 -3.737367 -4.194781 -4.876594 -5.025584 -5.427860  \n",
      "1  4.640729  1.473368  1.927335  4.679656  3.354687  3.828168  \n",
      "\n",
      "[2 rows x 100 columns]\n",
      "   0_centroid_klastera  1_centroid_klastera\n",
      "0             9.941625            -3.861249\n",
      "1             1.854261             2.786620\n"
     ]
    },
    {
     "name": "stderr",
     "output_type": "stream",
     "text": [
      "\n"
     ]
    }
   ],
   "source": [
    "#\"\"\"\"\n",
    "centri = np.array([[10, 2], [-4, 3]], dtype=float)\n",
    "A = [np.random.randn(2, 50) + np.expand_dims(centar, axis=1) \n",
    "    for centar in centri]\n",
    "A = np.concatenate(A, axis=1)\n",
    "#\"\"\"\n",
    "\n",
    "A = pd.DataFrame(A)\n",
    "print(A)\n",
    "nmax = 5\n",
    "k = 3\n",
    "\n",
    "while True:\n",
    "    starting_partition = np.random.randint(0, k, A.shape[1])\n",
    "    s_i = np.unique(starting_partition, axis=0, return_counts=True)[1]\n",
    "    if len(s_i) == k:\n",
    "        break\n",
    "\n",
    "A.columns = starting_partition \n",
    "\n",
    "for n in tqdm(range(nmax)):\n",
    "    s_i = np.unique(starting_partition, axis=0, return_counts=True)[1]\n",
    "    a_i = A.groupby(level=0,axis=1).sum().add_suffix('_centroid_klastera')\n",
    "    m_i = a_i / s_i \n",
    "    for i in range(A.shape[1]): \n",
    "        distance_final = np.inf\n",
    "        for j in range(0, m_i.shape[1]):\n",
    "            distance = np.linalg.norm((A.iloc[:,i] - m_i.iloc[:,j]))\n",
    "            if(distance < distance_final):\n",
    "                distance_final = distance\n",
    "                tmp = list(A.columns)\n",
    "                tmp[i] = j\n",
    "                A.columns = tmp  \n",
    "    starting_partition = A.columns.values \n",
    "\n",
    "print(A)   \n",
    "print(m_i)"
   ]
  },
  {
   "cell_type": "code",
   "execution_count": 34,
   "metadata": {},
   "outputs": [
    {
     "data": {
      "image/png": "[encoded data removed]",
      "text/plain": [
       "<Figure size 432x288 with 1 Axes>"
      ]
     },
     "metadata": {
      "needs_background": "light"
     },
     "output_type": "display_data"
    }
   ],
   "source": [
    "plt.plot(A.iloc[0,:],A.iloc[1,:], 'ro')\n",
    "plt.plot(m_i.iloc[0,:],m_i.iloc[1,:], 'bx', ms=10)\n",
    "plt.show()\n",
    "#plavi centroidi"
   ]
  },
  {
   "cell_type": "markdown",
   "metadata": {},
   "source": [
    "## 9. prosinac 2021."
   ]
  },
  {
   "cell_type": "code",
   "execution_count": 7,
   "metadata": {},
   "outputs": [],
   "source": [
    "import scipy.io\n",
    "import numpy as np\n",
    "from scipy.sparse.linalg import eigs\n",
    "\n",
    "mat_1 = scipy.io.loadmat('azip.mat')\n",
    "A = mat_1['azip']\n",
    "mat_2 = scipy.io.loadmat('dzip.mat')\n",
    "D = mat_2['dzip']\n",
    "\n",
    "k = 10"
   ]
  },
  {
   "cell_type": "code",
   "execution_count": 10,
   "metadata": {},
   "outputs": [],
   "source": [
    "Q, R = np.linalg.qr(A)\n",
    "R_1 = R[0:k, 0:k]\n",
    "R_2 = R[0:k, (k+1): R.shape[1]]\n",
    "\n",
    "R = np.matmul( np.linalg.inv(R_1), R_2)"
   ]
  },
  {
   "cell_type": "code",
   "execution_count": 64,
   "metadata": {},
   "outputs": [
    {
     "name": "stdout",
     "output_type": "stream",
     "text": [
      "(10, 1707)\n"
     ]
    }
   ],
   "source": [
    "U, S, V = np.linalg.svd(np.matmul(np.transpose(A),A))\n",
    "V = V[:, 0:k]\n",
    "Q, R_t = np.linalg.qr(np.transpose(V))\n",
    "print(R_t.shape)\n",
    "R_1 = R_t[0:k, 0:k]\n",
    "R_2 = R_t[0:k, (k+1): R_t.shape[1]]"
   ]
  },
  {
   "cell_type": "code",
   "execution_count": 63,
   "metadata": {},
   "outputs": [],
   "source": [
    "R = np.matmul( np.linalg.inv(R_1), R_2)"
   ]
  },
  {
   "cell_type": "code",
   "execution_count": 11,
   "metadata": {},
   "outputs": [],
   "source": [
    "##Josipa\n",
    "part=np.zeros(R.shape[1])\n",
    "for i in range(R.shape[1]):\n",
    "    argvalue = np.abs(max(R[i,10:R.shape[1]]))\n",
    "    for j in range(10,R.shape[1]):\n",
    "        if abs(R[i][j])==argvalue:\n",
    "            argmax=j\n",
    "    part[i] = argmax\n",
    "    #R[0:k, i] = np.zeros(k);\n",
    "    #R[i,argmax ] = 1;\n",
    "    break;"
   ]
  },
  {
   "cell_type": "markdown",
   "metadata": {},
   "source": [
    "## 14.12.2021."
   ]
  },
  {
   "cell_type": "code",
   "execution_count": 3,
   "metadata": {},
   "outputs": [],
   "source": [
    "import scipy.io\n",
    "\n",
    "import numpy as np\n",
    "from scipy.sparse.linalg import eigs"
   ]
  },
  {
   "cell_type": "markdown",
   "metadata": {},
   "source": [
    "Učitavanje podataka"
   ]
  },
  {
   "cell_type": "code",
   "execution_count": 2,
   "metadata": {},
   "outputs": [],
   "source": [
    "mat_1 = scipy.io.loadmat('azip.mat')\n",
    "A = mat_1['azip'] #data\n",
    "\n",
    "mat_2 = scipy.io.loadmat('dzip.mat')\n",
    "D = mat_2['dzip'] #data\n",
    "\n",
    "k = 10 "
   ]
  },
  {
   "cell_type": "markdown",
   "metadata": {},
   "source": [
    "Prvo ćemo presložiti matricu podataka(**A**) na način da združimo one elemente koji pripadaju istom klasteru i napravimo od njih blokove. Nakon toga, pomoću kreiranih blokova, računamo broj elementa klastera(**$s_i$**) i nove centroide (**$m_i$**) pomoću formula s prezentacije(*prva prezentacija - slajd 35*)."
   ]
  },
  {
   "cell_type": "code",
   "execution_count": 4,
   "metadata": {},
   "outputs": [],
   "source": [
    "new_A = np.empty([A.shape[0],0])\n",
    "s_i = np.empty(k, dtype=int) \n",
    "m_i = np.empty([A.shape[0],k])\n",
    "permutation = np.empty(0,) \n",
    "\n",
    "for i in range(k):\n",
    "    A_i = A[:, np.where(D == i)[1]] \n",
    "    permutation = np.append(permutation, np.where(D == i)[1], axis=0) \n",
    "    new_A = np.append(new_A, A_i, axis=1)\n",
    "    s_i[i] = np.where(D == i)[1].shape[0]\n",
    "    e = np.ones(s_i[i])\n",
    "    m_i[:,i] = (1/s_i[i]) * np.matmul(A_i, e) \n"
   ]
  },
  {
   "cell_type": "markdown",
   "metadata": {},
   "source": [
    "Konačno, formuliramo matricu X koja će sadržavati informacije o pripadnosti elementa početnoj particiji."
   ]
  },
  {
   "cell_type": "code",
   "execution_count": 7,
   "metadata": {},
   "outputs": [],
   "source": [
    "X = np.zeros([A.shape[1],k])\n",
    "\n",
    "for i in range(k):\n",
    "    if( i == 0):\n",
    "        X[i:s_i[i], 0] = 1/s_i[1]\n",
    "    else:\n",
    "        X[ s_i[0:i].sum() : s_i[0:i].sum() + s_i[i], i] = 1/s_i[i-1]"
   ]
  },
  {
   "cell_type": "markdown",
   "metadata": {},
   "source": [
    "Na kraju, preostaje ponovo inverzno djelovati istom permutacijom na matricu $X$ kako bismo dobili $\\tilde{X}$."
   ]
  },
  {
   "cell_type": "code",
   "execution_count": 8,
   "metadata": {},
   "outputs": [],
   "source": [
    "X_tilde = np.zeros([A.shape[1],k])\n",
    "\n",
    "for i in range(X.shape[0]):\n",
    "    index = list(permutation).index(i)  \n",
    "    X_tilde[int(permutation[i]), :] = X[i, :] "
   ]
  },
  {
   "cell_type": "markdown",
   "metadata": {},
   "source": [
    "Preostaje zapisati početnu particiju."
   ]
  },
  {
   "cell_type": "code",
   "execution_count": 6,
   "metadata": {},
   "outputs": [],
   "source": [
    "start_partition = np.empty(D.shape[1], dtype=int)\n",
    "\n",
    "for i in range(X.shape[0]):\n",
    "    start_partition[i] = int(np.where(X_tilde[i, :] != 0)[0])"
   ]
  },
  {
   "cell_type": "code",
   "execution_count": 7,
   "metadata": {},
   "outputs": [
    {
     "data": {
      "text/plain": [
       "1.0"
      ]
     },
     "execution_count": 7,
     "metadata": {},
     "output_type": "execute_result"
    }
   ],
   "source": [
    "from sklearn.metrics import accuracy_score\n",
    "\n",
    "start_partition = np.reshape(start_partition, (D.shape[1],1))\n",
    "accuracy_score(start_partition, np.transpose(D))"
   ]
  },
  {
   "cell_type": "markdown",
   "metadata": {},
   "source": [
    "Vidimo da se ova početna particija 100% podudara s točnim rješenjima, pa možemo reći da je idealna, odnosno da je naš algoritam jako dobar."
   ]
  },
  {
   "cell_type": "code",
   "execution_count": 9,
   "metadata": {},
   "outputs": [],
   "source": [
    "M = start_partition == np.transpose(D)"
   ]
  },
  {
   "cell_type": "markdown",
   "metadata": {},
   "source": [
    "## 15. prosinac 2021."
   ]
  },
  {
   "cell_type": "code",
   "execution_count": 18,
   "metadata": {},
   "outputs": [],
   "source": [
    "testzip = scipy.io.loadmat('testzip.mat')\n",
    "At = testzip ['testzip']\n",
    "dtest = scipy.io.loadmat('dtest.mat')\n",
    "Dt = dtest['dtest']\n",
    "niz_test = Dt[0]\n",
    "niz = D[0]\n",
    "\n",
    "k = 10"
   ]
  },
  {
   "cell_type": "code",
   "execution_count": 19,
   "metadata": {},
   "outputs": [
    {
     "name": "stdout",
     "output_type": "stream",
     "text": [
      "0.931738913801694\n",
      "[9. 6. 3. ... 4. 0. 1.]\n"
     ]
    }
   ],
   "source": [
    "baze_prostora_znamenki = dict()\n",
    "\n",
    "for i in range (k):\n",
    "    J = [j for j, x in enumerate(niz) if x == i] \n",
    "    B = A[:,J]\n",
    "    U, S, V = np.linalg.svd(B)\n",
    "    baze_prostora_znamenki[i] = U[:,0:k]\n",
    "    \n",
    "n = len(niz_test)\n",
    "rez = np.zeros(n)\n",
    "\n",
    "\n",
    "brojac = 0\n",
    "br = 0\n",
    "for i in range (n):\n",
    "    z = At[:,i]\n",
    "    y = np.dot(baze_prostora_znamenki[0],baze_prostora_znamenki[0].T)\n",
    "    x = np.dot(y,z)\n",
    "    min_udaljenost = np.linalg.norm(z - x)\n",
    "    klaster = 0\n",
    "    for j in range (1,10):\n",
    "        y = np.dot(baze_prostora_znamenki[j],baze_prostora_znamenki[j].T)\n",
    "        x = np.dot(y,z)\n",
    "        udaljenost = np.linalg.norm(z - x)\n",
    "        if (udaljenost < min_udaljenost):\n",
    "            #print(j)\n",
    "            min_udaljenost = udaljenost\n",
    "            klaster = j \n",
    "    rez[i] = klaster\n",
    "  \n",
    "\n",
    "from sklearn.metrics import accuracy_score\n",
    "accuracy_score(rez,niz_test)\n"
   ]
  },
  {
   "cell_type": "markdown",
   "metadata": {},
   "source": [
    "### 15.12.2021. - part II."
   ]
  },
  {
   "cell_type": "code",
   "execution_count": 13,
   "metadata": {},
   "outputs": [],
   "source": [
    "import numpy as np\n",
    "import pandas as pd\n",
    "import scipy.io\n",
    "from sklearn.metrics import accuracy_score"
   ]
  },
  {
   "cell_type": "code",
   "execution_count": 3,
   "metadata": {},
   "outputs": [],
   "source": [
    "mat_1 = scipy.io.loadmat('azip.mat')\n",
    "A = mat_1['azip'] #data\n",
    "\n",
    "mat_2 = scipy.io.loadmat('dzip.mat')\n",
    "D = mat_2['dzip'] #data\n",
    "\n",
    "k = 10 "
   ]
  },
  {
   "cell_type": "code",
   "execution_count": 85,
   "metadata": {},
   "outputs": [],
   "source": [
    "U, S, V = np.linalg.svd(A)\n",
    "\n",
    "U = U[:,0:k]\n",
    "V = V[0:k, :]\n",
    "S_ = np.zeros((1707, 1707), int)\n",
    "np.fill_diagonal(S_, S)\n",
    "S_.shape\n",
    "S = S_[0:k,0:k]\n"
   ]
  },
  {
   "cell_type": "code",
   "execution_count": 86,
   "metadata": {},
   "outputs": [],
   "source": [
    "X = U @ S @ V"
   ]
  },
  {
   "cell_type": "code",
   "execution_count": 88,
   "metadata": {},
   "outputs": [],
   "source": [
    "Q, R = np.linalg.qr(X) #?\n",
    "R_1 = R[0:k, 0:k]\n",
    "R_2 = R[0:k, k: R.shape[1]]\n",
    "\n",
    "R = np.matmul(np.linalg.inv(R_1), R_2)"
   ]
  },
  {
   "cell_type": "code",
   "execution_count": 89,
   "metadata": {},
   "outputs": [],
   "source": [
    "Q, R, P = np.linalg.qr(np.transpose(X)) #?\n",
    "R_1 = R[0:k, 0:k]\n",
    "R_2 = R[0:k, k: R.shape[1]]\n",
    "\n",
    "R = np.matmul(np.linalg.inv(R_1), R_2)\n",
    "I = np.eye(10, dtype=int)\n",
    "Final = np.transpose(np.append(I,R,axis=1))"
   ]
  },
  {
   "cell_type": "code",
   "execution_count": 73,
   "metadata": {},
   "outputs": [
    {
     "data": {
      "text/plain": [
       "(1707,)"
      ]
     },
     "execution_count": 73,
     "metadata": {},
     "output_type": "execute_result"
    }
   ],
   "source": [
    "particija = np.argmax(Final, axis=1)\n",
    "particija.shape"
   ]
  },
  {
   "cell_type": "code",
   "execution_count": 74,
   "metadata": {},
   "outputs": [
    {
     "data": {
      "text/plain": [
       "(1707,)"
      ]
     },
     "execution_count": 74,
     "metadata": {},
     "output_type": "execute_result"
    }
   ],
   "source": [
    "D_ = np.array(D, dtype='int')\n",
    "D_[0].shape"
   ]
  },
  {
   "cell_type": "code",
   "execution_count": 75,
   "metadata": {},
   "outputs": [
    {
     "data": {
      "text/plain": [
       "0.042765084944346804"
      ]
     },
     "execution_count": 75,
     "metadata": {},
     "output_type": "execute_result"
    }
   ],
   "source": [
    "accuracy_score(D_[0], particija)"
   ]
  },
  {
   "cell_type": "markdown",
   "metadata": {},
   "source": [
    "## 16. 12. 2021. "
   ]
  },
  {
   "cell_type": "markdown",
   "metadata": {},
   "source": [
    "Prema uputama u članku:"
   ]
  },
  {
   "cell_type": "code",
   "execution_count": 5,
   "metadata": {},
   "outputs": [
    {
     "data": {
      "text/plain": [
       "(1707, 10)"
      ]
     },
     "execution_count": 5,
     "metadata": {},
     "output_type": "execute_result"
    }
   ],
   "source": [
    "U, S, V = np.linalg.svd(np.transpose(A) @ A)\n",
    "X_k = V[:, 0:k] #primjeni k-means na retke -> poglavlje 2"
   ]
  },
  {
   "cell_type": "code",
   "execution_count": 110,
   "metadata": {},
   "outputs": [],
   "source": [
    "X_final = np.transpose(X_k) @ P"
   ]
  },
  {
   "cell_type": "code",
   "execution_count": 106,
   "metadata": {},
   "outputs": [],
   "source": [
    "Q, R, P = scipy.linalg.qr(A, pivoting = True)"
   ]
  },
  {
   "cell_type": "code",
   "execution_count": 124,
   "metadata": {},
   "outputs": [],
   "source": [
    "P_ = np.zeros([1707,1707])"
   ]
  },
  {
   "cell_type": "code",
   "execution_count": 125,
   "metadata": {},
   "outputs": [],
   "source": [
    "for i in range(1707):\n",
    "    P_[i,P[i]] = 1"
   ]
  },
  {
   "cell_type": "code",
   "execution_count": 145,
   "metadata": {},
   "outputs": [],
   "source": [
    "U, S, V = np.linalg.svd(np.transpose(A) @ A)\n",
    "\n",
    "U = U[:,0:k]\n",
    "V = V[0:k, :]\n",
    "S_ = np.zeros((1707, 1707), int)\n",
    "np.fill_diagonal(S_, S)\n",
    "S_.shape\n",
    "S = S_[0:k,0:k]\n",
    "\n",
    "X = U @ S @ V"
   ]
  },
  {
   "cell_type": "code",
   "execution_count": 167,
   "metadata": {},
   "outputs": [],
   "source": [
    "X__ = np.transpose(X) @ P_"
   ]
  },
  {
   "cell_type": "code",
   "execution_count": 168,
   "metadata": {},
   "outputs": [],
   "source": [
    "Q, R = np.linalg.qr(np.transpose(X__)) \n",
    "R_1 = R[0:k, 0:k]\n",
    "R_2 = R[0:k, k: R.shape[1]]\n",
    "\n",
    "R = np.matmul(np.linalg.inv(R_1), R_2)\n",
    "I = np.eye(10, dtype=int)\n",
    "Final = np.transpose(np.append(I,R,axis=1))"
   ]
  },
  {
   "cell_type": "code",
   "execution_count": 169,
   "metadata": {},
   "outputs": [],
   "source": [
    "particija = np.argmax(Final, axis=1)"
   ]
  },
  {
   "cell_type": "code",
   "execution_count": 170,
   "metadata": {},
   "outputs": [
    {
     "data": {
      "text/plain": [
       "array([0, 1, 2, ..., 4, 0, 9])"
      ]
     },
     "execution_count": 170,
     "metadata": {},
     "output_type": "execute_result"
    }
   ],
   "source": [
    "particija"
   ]
  },
  {
   "cell_type": "code",
   "execution_count": 171,
   "metadata": {},
   "outputs": [
    {
     "data": {
      "text/plain": [
       "0.042765084944346804"
      ]
     },
     "execution_count": 171,
     "metadata": {},
     "output_type": "execute_result"
    }
   ],
   "source": [
    "accuracy_score(D_[0], particija)"
   ]
  },
  {
   "cell_type": "markdown",
   "metadata": {},
   "source": [
    "## 17.12.2021."
   ]
  },
  {
   "cell_type": "markdown",
   "metadata": {},
   "source": [
    "Učitavanje podataka:\n"
   ]
  },
  {
   "cell_type": "code",
   "execution_count": 94,
   "metadata": {},
   "outputs": [],
   "source": [
    "mat_1 = scipy.io.loadmat('azip.mat')\n",
    "A = mat_1['azip'] #data\n",
    "\n",
    "mat_2 = scipy.io.loadmat('dzip.mat')\n",
    "D = mat_2['dzip'] #data\n",
    "\n",
    "k = 10 "
   ]
  },
  {
   "cell_type": "code",
   "execution_count": 96,
   "metadata": {},
   "outputs": [
    {
     "data": {
      "text/html": [
       "<div>\n",
       "<style scoped>\n",
       "    .dataframe tbody tr th:only-of-type {\n",
       "        vertical-align: middle;\n",
       "    }\n",
       "\n",
       "    .dataframe tbody tr th {\n",
       "        vertical-align: top;\n",
       "    }\n",
       "\n",
       "    .dataframe thead th {\n",
       "        text-align: right;\n",
       "    }\n",
       "</style>\n",
       "<table border=\"1\" class=\"dataframe\">\n",
       "  <thead>\n",
       "    <tr style=\"text-align: right;\">\n",
       "      <th></th>\n",
       "      <th>0</th>\n",
       "      <th>1</th>\n",
       "      <th>2</th>\n",
       "      <th>3</th>\n",
       "      <th>4</th>\n",
       "      <th>5</th>\n",
       "      <th>6</th>\n",
       "      <th>7</th>\n",
       "      <th>8</th>\n",
       "      <th>9</th>\n",
       "      <th>...</th>\n",
       "      <th>1697</th>\n",
       "      <th>1698</th>\n",
       "      <th>1699</th>\n",
       "      <th>1700</th>\n",
       "      <th>1701</th>\n",
       "      <th>1702</th>\n",
       "      <th>1703</th>\n",
       "      <th>1704</th>\n",
       "      <th>1705</th>\n",
       "      <th>1706</th>\n",
       "    </tr>\n",
       "  </thead>\n",
       "  <tbody>\n",
       "    <tr>\n",
       "      <th>0</th>\n",
       "      <td>6</td>\n",
       "      <td>5</td>\n",
       "      <td>4</td>\n",
       "      <td>7</td>\n",
       "      <td>3</td>\n",
       "      <td>6</td>\n",
       "      <td>3</td>\n",
       "      <td>1</td>\n",
       "      <td>0</td>\n",
       "      <td>1</td>\n",
       "      <td>...</td>\n",
       "      <td>8</td>\n",
       "      <td>0</td>\n",
       "      <td>5</td>\n",
       "      <td>1</td>\n",
       "      <td>9</td>\n",
       "      <td>8</td>\n",
       "      <td>9</td>\n",
       "      <td>7</td>\n",
       "      <td>9</td>\n",
       "      <td>8</td>\n",
       "    </tr>\n",
       "  </tbody>\n",
       "</table>\n",
       "<p>1 rows × 1707 columns</p>\n",
       "</div>"
      ],
      "text/plain": [
       "   0     1     2     3     4     5     6     7     8     9     ...  1697  \\\n",
       "0     6     5     4     7     3     6     3     1     0     1  ...     8   \n",
       "\n",
       "   1698  1699  1700  1701  1702  1703  1704  1705  1706  \n",
       "0     0     5     1     9     8     9     7     9     8  \n",
       "\n",
       "[1 rows x 1707 columns]"
      ]
     },
     "execution_count": 96,
     "metadata": {},
     "output_type": "execute_result"
    }
   ],
   "source": [
    "pd.DataFrame(D)"
   ]
  },
  {
   "cell_type": "markdown",
   "metadata": {},
   "source": [
    "Prvi način relaksije:"
   ]
  },
  {
   "cell_type": "code",
   "execution_count": 173,
   "metadata": {},
   "outputs": [],
   "source": [
    "from scipy.linalg import eigh\n",
    "\n",
    "eigenvalues, eigenvectors = eigh(np.transpose(A) @ A) \n",
    "\n",
    "eigenvalues = eigenvalues[A.shape[1]-k:A.shape[1]][::-1] \n",
    "X_k = np.flip(eigenvectors[:, (A.shape[1]-k):A.shape[1]] ,axis=1)\n"
   ]
  },
  {
   "cell_type": "markdown",
   "metadata": {},
   "source": [
    "Drugi način relaksije:"
   ]
  },
  {
   "cell_type": "code",
   "execution_count": 174,
   "metadata": {},
   "outputs": [],
   "source": [
    "Q, R, P = scipy.linalg.qr(np.transpose(X_k), pivoting = True)\n",
    "\n",
    "\n",
    "P_ = np.zeros([A.shape[1],A.shape[1]])\n",
    "for i in range(A.shape[1]):\n",
    "    P_[P[i],i] = 1\n",
    "\n",
    "\n",
    "R_11 = R[0:k, 0:k]\n",
    "R_12 = R[0:k, k:R.shape[1]]\n",
    "\n",
    "I = np.eye(k, dtype=int)\n",
    "R = np.matmul(np.linalg.inv(R_11), R_12)\n",
    "\n",
    "R_kapa = np.append(I,R,axis=1)  @  np.transpose(P_)\n",
    "R_kapa = np.absolute(R_kapa)\n",
    "particija = np.argmax(R_kapa, axis=0)"
   ]
  },
  {
   "cell_type": "markdown",
   "metadata": {},
   "source": [
    "K-means:"
   ]
  },
  {
   "cell_type": "code",
   "execution_count": 199,
   "metadata": {},
   "outputs": [
    {
     "name": "stdout",
     "output_type": "stream",
     "text": [
      "1\n"
     ]
    }
   ],
   "source": [
    "A = pd.DataFrame(A)\n",
    "k = 3\n",
    "partition = particija\n",
    "A.columns = partition \n",
    "\n",
    "number_of_iteration = 0\n",
    "epsilon = 0.001\n",
    "\n",
    "Q_of_partition = np.inf\n",
    "\n",
    "while(Q_of_partition > epsilon):\n",
    "    \n",
    "    number_of_iteration += 1\n",
    "    \n",
    "    Q_of_partition_before = 0\n",
    "    for i in range(A.shape[1]):\n",
    "        Q_of_partition_before  += np.linalg.norm((A.iloc[:,i] - m_i.iloc[:,A.columns[i]]))\n",
    "    \n",
    "    s_i = np.unique(partition, axis=0, return_counts=True)[1]\n",
    "    a_i = A.groupby(level=0,axis=1).sum().add_suffix('. centroid')\n",
    "    m_i = a_i / s_i \n",
    "    for i in range(A.shape[1]): \n",
    "        distance_final = np.inf\n",
    "        for j in range(0, m_i.shape[1]):\n",
    "            distance = np.linalg.norm((A.iloc[:,i] - m_i.iloc[:,j]))\n",
    "            if(distance < distance_final):\n",
    "                distance_final = distance\n",
    "                tmp = list(A.columns)\n",
    "                tmp[i] = j\n",
    "                A.columns = tmp  \n",
    "    partition = A.columns.values\n",
    "    \n",
    "    Q_of_partition_after = 0\n",
    "    for i in range(A.shape[1]):\n",
    "        Q_of_partition_after  += np.linalg.norm((A.iloc[:,i] - m_i.iloc[:,A.columns[i]]))\n",
    "    \n",
    "    Q_of_partition = Q_of_partition_before - Q_of_partition_after\n",
    "\n",
    "print(number_of_iteration)"
   ]
  },
  {
   "cell_type": "code",
   "execution_count": null,
   "metadata": {},
   "outputs": [],
   "source": []
  },
  {
   "cell_type": "code",
   "execution_count": null,
   "metadata": {},
   "outputs": [],
   "source": []
  }
 ],
 "metadata": {
  "interpreter": {
   "hash": "eeb592eeb14baf80ba7e3ad598b9cc718d92fa62785d72005ca19f7c0e0c833d"
  },
  "kernelspec": {
   "display_name": "Python 3.8.5 64-bit ('base': conda)",
   "language": "python",
   "name": "python3"
  },
  "language_info": {
   "codemirror_mode": {
    "name": "ipython",
    "version": 3
   },
   "file_extension": ".py",
   "mimetype": "text/x-python",
   "name": "python",
   "nbconvert_exporter": "python",
   "pygments_lexer": "ipython3",
   "version": "3.8.5"
  },
  "orig_nbformat": 4
 },
 "nbformat": 4,
 "nbformat_minor": 2
}
