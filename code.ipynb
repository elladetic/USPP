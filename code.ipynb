{
 "cells": [
  {
   "cell_type": "markdown",
   "metadata": {},
   "source": [
    "# Spectral Relaxation for K-means Clustering"
   ]
  },
  {
   "cell_type": "markdown",
   "metadata": {},
   "source": [
    "## Stari kod - ne gledati"
   ]
  },
  {
   "cell_type": "code",
   "execution_count": 88,
   "metadata": {},
   "outputs": [
    {
     "data": {
      "image/png": "[encoded data removed]",
      "text/plain": [
       "<Figure size 432x288 with 1 Axes>"
      ]
     },
     "metadata": {
      "needs_background": "light"
     },
     "output_type": "display_data"
    }
   ],
   "source": [
    "\"\"\"\n",
    "A = np.array([[1,1,4,5,5], [1, 2,1,1,2]]) #jednostavan primjer\n",
    "plt.plot(A[0,:],A[1,:], 'ro')\n",
    "plt.axis([0, 6, 0, 20])\n",
    "plt.show()\n",
    "\n",
    "\n",
    "centri = np.array([[10, 2], [-4, 3]], dtype=float)\n",
    "A = [np.random.randn(2, 50) + np.expand_dims(centar, axis=1) \n",
    "    for centar in centri]\n",
    "A = np.concatenate(A, axis=1)\n",
    "\n",
    "A = pd.DataFrame(A)\n",
    "print(A)\n",
    "nmax = 5\n",
    "k = 3\n",
    "\n",
    "while True:\n",
    "    starting_partition = np.random.randint(0, k, A.shape[1])\n",
    "    s_i = np.unique(starting_partition, axis=0, return_counts=True)[1]\n",
    "    if len(s_i) == k:\n",
    "        break\n",
    "\n",
    "A.columns = starting_partition \n",
    "\n",
    "for n in tqdm(range(nmax)):\n",
    "    s_i = np.unique(starting_partition, axis=0, return_counts=True)[1]\n",
    "    a_i = A.groupby(level=0,axis=1).sum().add_suffix('_centroid_klastera')\n",
    "    m_i = a_i / s_i \n",
    "    for i in range(A.shape[1]): \n",
    "        distance_final = np.inf\n",
    "        for j in range(0, m_i.shape[1]):\n",
    "            distance = np.linalg.norm((A.iloc[:,i] - m_i.iloc[:,j]))\n",
    "            if(distance < distance_final):\n",
    "                distance_final = distance\n",
    "                tmp = list(A.columns)\n",
    "                tmp[i] = j\n",
    "                A.columns = tmp  \n",
    "    starting_partition = A.columns.values \n",
    "\n",
    "print(A)   \n",
    "print(m_i)\n",
    "\n",
    "plt.plot(A.iloc[0,:],A.iloc[1,:], 'ro')\n",
    "plt.plot(m_i.iloc[0,:],m_i.iloc[1,:], 'bx', ms=10)\n",
    "plt.show()\n",
    "#plavi centroidi"
   ]
  },
  {
   "cell_type": "markdown",
   "metadata": {},
   "source": [
    "## Teorijski dio "
   ]
  },
  {
   "cell_type": "code",
   "execution_count": 5,
   "metadata": {},
   "outputs": [],
   "source": [
    "#učitavanje podataka\n",
    "\n",
    "import scipy.io\n",
    "import pandas as pd\n",
    "import numpy as np\n",
    "\n",
    "mat_1 = scipy.io.loadmat('azip.mat')\n",
    "A = mat_1['azip'] #data\n",
    "\n",
    "mat_2 = scipy.io.loadmat('dzip.mat')\n",
    "D = mat_2['dzip'] #data\n",
    "\n",
    "k = 10 #number of clasters"
   ]
  },
  {
   "cell_type": "markdown",
   "metadata": {},
   "source": [
    "Prvo ćemo presložiti matricu podataka(**A**) na način da združimo one elemente koji pripadaju istom klasteru i napravimo od njih blokove. Nakon toga, pomoću kreiranih blokova, računamo broj elementa klastera(**$s_i$**) i nove centroide (**$m_i$**) pomoću formula s prezentacije(*prva prezentacija - slajd 35*)."
   ]
  },
  {
   "cell_type": "code",
   "execution_count": 3,
   "metadata": {},
   "outputs": [],
   "source": [
    "new_A = np.empty([A.shape[0],0])\n",
    "s_i = np.empty(k, dtype=int) \n",
    "m_i = np.empty([A.shape[0],k])\n",
    "permutation = np.empty(0,) \n",
    "\n",
    "for i in range(k):\n",
    "    A_i = A[:, np.where(D == i)[1]] \n",
    "    permutation = np.append(permutation, np.where(D == i)[1], axis=0) \n",
    "    new_A = np.append(new_A, A_i, axis=1)\n",
    "    s_i[i] = np.where(D == i)[1].shape[0]\n",
    "    e = np.ones(s_i[i])\n",
    "    m_i[:,i] = (1/s_i[i]) * np.matmul(A_i, e) \n"
   ]
  },
  {
   "cell_type": "markdown",
   "metadata": {},
   "source": [
    "Konačno, formuliramo matricu X koja će sadržavati informacije o pripadnosti elementa početnoj particiji."
   ]
  },
  {
   "cell_type": "code",
   "execution_count": 4,
   "metadata": {},
   "outputs": [],
   "source": [
    "X = np.zeros([A.shape[1],k])\n",
    "\n",
    "for i in range(k):\n",
    "    if( i == 0):\n",
    "        X[i:s_i[i], 0] = 1/s_i[1]\n",
    "    else:\n",
    "        X[ s_i[0:i].sum() : s_i[0:i].sum() + s_i[i], i] = 1/s_i[i-1]"
   ]
  },
  {
   "cell_type": "markdown",
   "metadata": {},
   "source": [
    "Na kraju, preostaje ponovo inverzno djelovati istom permutacijom na matricu $X$ kako bismo dobili $\\tilde{X}$."
   ]
  },
  {
   "cell_type": "code",
   "execution_count": 5,
   "metadata": {},
   "outputs": [],
   "source": [
    "X_tilde = np.zeros([A.shape[1],k])\n",
    "\n",
    "for i in range(X.shape[0]):\n",
    "    index = list(permutation).index(i)  \n",
    "    X_tilde[int(permutation[i]), :] = X[i, :] "
   ]
  },
  {
   "cell_type": "markdown",
   "metadata": {},
   "source": [
    "Preostaje zapisati početnu particiju."
   ]
  },
  {
   "cell_type": "code",
   "execution_count": 6,
   "metadata": {},
   "outputs": [],
   "source": [
    "start_partition = np.empty(D.shape[1], dtype=int)\n",
    "\n",
    "for i in range(X.shape[0]):\n",
    "    start_partition[i] = int(np.where(X_tilde[i, :] != 0)[0])"
   ]
  },
  {
   "cell_type": "code",
   "execution_count": 7,
   "metadata": {},
   "outputs": [
    {
     "data": {
      "text/plain": [
       "1.0"
      ]
     },
     "execution_count": 7,
     "metadata": {},
     "output_type": "execute_result"
    }
   ],
   "source": [
    "from sklearn.metrics import accuracy_score\n",
    "\n",
    "start_partition = np.reshape(start_partition, (D.shape[1],1))\n",
    "accuracy_score(start_partition, np.transpose(D))"
   ]
  },
  {
   "cell_type": "markdown",
   "metadata": {},
   "source": [
    "Vidimo da se ova početna particija 100% podudara s točnim rješenjima."
   ]
  },
  {
   "cell_type": "markdown",
   "metadata": {},
   "source": [
    "## K-means pomoću linearne algebre"
   ]
  },
  {
   "cell_type": "code",
   "execution_count": 4,
   "metadata": {},
   "outputs": [
    {
     "data": {
      "text/plain": [
       "0.931738913801694"
      ]
     },
     "execution_count": 4,
     "metadata": {},
     "output_type": "execute_result"
    }
   ],
   "source": [
    "from sklearn.metrics import accuracy_score\n",
    "\n",
    "mat_3 = scipy.io.loadmat('dtest.mat')\n",
    "mat_2 = scipy.io.loadmat('testzip.mat')\n",
    "Dt = mat_3['dtest']\n",
    "\n",
    "At = mat_2['testzip']\n",
    "\n",
    "niz_test = Dt[0]\n",
    "niz = D[0]\n",
    "\n",
    "baze_prostora_znamenki = dict()\n",
    "\n",
    "for i in range (k):\n",
    "    J = [j for j, x in enumerate(niz) if x == i] \n",
    "    B = A[:,J]\n",
    "    U, S, V = np.linalg.svd(B)\n",
    "    baze_prostora_znamenki[i] = U[:,0:k]\n",
    "    \n",
    "n = len(niz_test)\n",
    "rez = np.zeros(n)\n",
    "\n",
    "\n",
    "brojac = 0\n",
    "br = 0\n",
    "for i in range (n):\n",
    "    z = At[:,i]\n",
    "    y = np.dot(baze_prostora_znamenki[0],baze_prostora_znamenki[0].T)\n",
    "    x = np.dot(y,z)\n",
    "    min_udaljenost = np.linalg.norm(z - x)\n",
    "    klaster = 0\n",
    "    for j in range (1,10):\n",
    "        y = np.dot(baze_prostora_znamenki[j],baze_prostora_znamenki[j].T)\n",
    "        x = np.dot(y,z)\n",
    "        udaljenost = np.linalg.norm(z - x)\n",
    "        if (udaljenost < min_udaljenost):\n",
    "            #print(j)\n",
    "            min_udaljenost = udaljenost\n",
    "            klaster = j \n",
    "    rez[i] = klaster\n",
    "  \n",
    "\n",
    "\n",
    "accuracy_score(rez,niz_test)\n"
   ]
  },
  {
   "cell_type": "markdown",
   "metadata": {},
   "source": [
    "## Finalno rješenje"
   ]
  },
  {
   "cell_type": "markdown",
   "metadata": {},
   "source": [
    "Učitavanje podataka:\n"
   ]
  },
  {
   "cell_type": "code",
   "execution_count": 9,
   "metadata": {},
   "outputs": [],
   "source": [
    "import scipy.io\n",
    "import pandas as pd\n",
    "import numpy as np\n",
    "\n",
    "mat_1 = scipy.io.loadmat('azip.mat')\n",
    "A = mat_1['azip'] #data\n",
    "\n",
    "mat_2 = scipy.io.loadmat('dzip.mat')\n",
    "D = mat_2['dzip'] #data\n",
    "\n",
    "\n",
    "mat_3 = scipy.io.loadmat('dtest.mat')\n",
    "mat_2 = scipy.io.loadmat('testzip.mat')\n",
    "Dt = mat_3['dtest']\n",
    "\n",
    "At = mat_2['testzip']\n",
    "\n",
    "niz_test = Dt[0]\n",
    "niz = D[0]\n",
    "\n",
    "k=10\n",
    "\n",
    "K_means_1(A, At, niz, niz_test, k)"
   ]
  },
  {
   "cell_type": "code",
   "execution_count": null,
   "metadata": {},
   "outputs": [],
   "source": [
    "import scipy.io\n",
    "import pandas as pd\n",
    "import numpy as np\n",
    "\n",
    "mat_1 = scipy.io.loadmat('azip.mat')\n",
    "A = mat_1['azip'] #data\n",
    "A = A[:, 0:50]\n",
    "\n",
    "A = A.byteswap().newbyteorder()\n",
    "A = pd.DataFrame(A)\n",
    "\n",
    "mat_2 = scipy.io.loadmat('dzip.mat')\n",
    "D = mat_2['dzip'] #data\n",
    "D = D[:, 0:50]\n",
    "k = 10 \n",
    "\n",
    "while True: #još uvijek nemamo dobru ideju za početnu particiju pa je ona random zasad\n",
    "    starting_partition = np.random.randint(0, k, A.shape[1])\n",
    "    s_i = np.unique(starting_partition, axis=0, return_counts=True)[1]\n",
    "    if len(s_i) == k:\n",
    "        break\n",
    "\n",
    "\n",
    "\n",
    "epsilon = 0.00001\n",
    "\n",
    "K_means_2(A,starting_partition, k, epsilon) "
   ]
  },
  {
   "cell_type": "markdown",
   "metadata": {},
   "source": [
    "Prema poglavlju dva u članku, koristeći spektralnu relaksaciju smanjit ćemo dimenzije matrice A, ali svejedno očuvati sve potrebne informacije. Uzimamo samo k prvih svojstvenih vektora. Na taj način formiramo matricu X_k na čije retke primjenjujemo k-means. Svaki podatak više nije 1x256, već 1x10! - Velika ušteda memorije!"
   ]
  },
  {
   "cell_type": "markdown",
   "metadata": {},
   "source": [
    "Prvi način relaksije:"
   ]
  },
  {
   "cell_type": "code",
   "execution_count": 20,
   "metadata": {},
   "outputs": [],
   "source": [
    "from scipy.linalg import eigh\n",
    "\n",
    "eigenvalues, eigenvectors = eigh(np.transpose(A) @ A) \n",
    "\n",
    "eigenvalues = eigenvalues[A.shape[1]-k:A.shape[1]][::-1] \n",
    "X_k = np.flip(eigenvectors[:, (A.shape[1]-k):A.shape[1]] ,axis=1)\n"
   ]
  },
  {
   "cell_type": "code",
   "execution_count": 21,
   "metadata": {},
   "outputs": [
    {
     "data": {
      "text/html": [
       "<div>\n",
       "<style scoped>\n",
       "    .dataframe tbody tr th:only-of-type {\n",
       "        vertical-align: middle;\n",
       "    }\n",
       "\n",
       "    .dataframe tbody tr th {\n",
       "        vertical-align: top;\n",
       "    }\n",
       "\n",
       "    .dataframe thead th {\n",
       "        text-align: right;\n",
       "    }\n",
       "</style>\n",
       "<table border=\"1\" class=\"dataframe\">\n",
       "  <thead>\n",
       "    <tr style=\"text-align: right;\">\n",
       "      <th></th>\n",
       "      <th>0</th>\n",
       "      <th>1</th>\n",
       "      <th>2</th>\n",
       "      <th>3</th>\n",
       "      <th>4</th>\n",
       "      <th>5</th>\n",
       "      <th>6</th>\n",
       "      <th>7</th>\n",
       "      <th>8</th>\n",
       "      <th>9</th>\n",
       "    </tr>\n",
       "  </thead>\n",
       "  <tbody>\n",
       "    <tr>\n",
       "      <th>0</th>\n",
       "      <td>-0.080261</td>\n",
       "      <td>0.158458</td>\n",
       "      <td>0.146344</td>\n",
       "      <td>0.075466</td>\n",
       "      <td>-0.092041</td>\n",
       "      <td>0.004512</td>\n",
       "      <td>-0.010847</td>\n",
       "      <td>-0.006441</td>\n",
       "      <td>0.084212</td>\n",
       "      <td>0.128041</td>\n",
       "    </tr>\n",
       "    <tr>\n",
       "      <th>1</th>\n",
       "      <td>-0.040928</td>\n",
       "      <td>0.149799</td>\n",
       "      <td>-0.011916</td>\n",
       "      <td>-0.139635</td>\n",
       "      <td>-0.120211</td>\n",
       "      <td>-0.143306</td>\n",
       "      <td>0.041295</td>\n",
       "      <td>0.068432</td>\n",
       "      <td>-0.163216</td>\n",
       "      <td>0.133591</td>\n",
       "    </tr>\n",
       "    <tr>\n",
       "      <th>2</th>\n",
       "      <td>-0.093066</td>\n",
       "      <td>0.058889</td>\n",
       "      <td>-0.030985</td>\n",
       "      <td>0.171445</td>\n",
       "      <td>-0.018936</td>\n",
       "      <td>0.100938</td>\n",
       "      <td>0.203378</td>\n",
       "      <td>-0.101044</td>\n",
       "      <td>0.065286</td>\n",
       "      <td>0.011539</td>\n",
       "    </tr>\n",
       "    <tr>\n",
       "      <th>3</th>\n",
       "      <td>-0.119396</td>\n",
       "      <td>-0.063160</td>\n",
       "      <td>-0.181185</td>\n",
       "      <td>0.001965</td>\n",
       "      <td>-0.005684</td>\n",
       "      <td>-0.069925</td>\n",
       "      <td>-0.016849</td>\n",
       "      <td>0.009450</td>\n",
       "      <td>0.023683</td>\n",
       "      <td>0.015812</td>\n",
       "    </tr>\n",
       "    <tr>\n",
       "      <th>4</th>\n",
       "      <td>-0.085921</td>\n",
       "      <td>0.109147</td>\n",
       "      <td>-0.022548</td>\n",
       "      <td>-0.266008</td>\n",
       "      <td>-0.064803</td>\n",
       "      <td>0.046679</td>\n",
       "      <td>0.099236</td>\n",
       "      <td>-0.037256</td>\n",
       "      <td>-0.066887</td>\n",
       "      <td>-0.022213</td>\n",
       "    </tr>\n",
       "    <tr>\n",
       "      <th>...</th>\n",
       "      <td>...</td>\n",
       "      <td>...</td>\n",
       "      <td>...</td>\n",
       "      <td>...</td>\n",
       "      <td>...</td>\n",
       "      <td>...</td>\n",
       "      <td>...</td>\n",
       "      <td>...</td>\n",
       "      <td>...</td>\n",
       "      <td>...</td>\n",
       "    </tr>\n",
       "    <tr>\n",
       "      <th>95</th>\n",
       "      <td>-0.036550</td>\n",
       "      <td>0.180168</td>\n",
       "      <td>0.058374</td>\n",
       "      <td>-0.000519</td>\n",
       "      <td>-0.195549</td>\n",
       "      <td>-0.285158</td>\n",
       "      <td>-0.091823</td>\n",
       "      <td>-0.004770</td>\n",
       "      <td>0.025162</td>\n",
       "      <td>-0.175828</td>\n",
       "    </tr>\n",
       "    <tr>\n",
       "      <th>96</th>\n",
       "      <td>-0.086891</td>\n",
       "      <td>-0.008140</td>\n",
       "      <td>-0.079819</td>\n",
       "      <td>0.000684</td>\n",
       "      <td>0.021268</td>\n",
       "      <td>0.196336</td>\n",
       "      <td>-0.132219</td>\n",
       "      <td>-0.168143</td>\n",
       "      <td>0.143436</td>\n",
       "      <td>0.089795</td>\n",
       "    </tr>\n",
       "    <tr>\n",
       "      <th>97</th>\n",
       "      <td>-0.095168</td>\n",
       "      <td>0.206842</td>\n",
       "      <td>0.059285</td>\n",
       "      <td>0.021017</td>\n",
       "      <td>0.063423</td>\n",
       "      <td>0.053159</td>\n",
       "      <td>0.107120</td>\n",
       "      <td>0.057621</td>\n",
       "      <td>-0.058249</td>\n",
       "      <td>-0.111400</td>\n",
       "    </tr>\n",
       "    <tr>\n",
       "      <th>98</th>\n",
       "      <td>-0.086677</td>\n",
       "      <td>-0.050554</td>\n",
       "      <td>0.083049</td>\n",
       "      <td>0.067205</td>\n",
       "      <td>0.008636</td>\n",
       "      <td>-0.056683</td>\n",
       "      <td>-0.093446</td>\n",
       "      <td>-0.311376</td>\n",
       "      <td>0.067425</td>\n",
       "      <td>0.073984</td>\n",
       "    </tr>\n",
       "    <tr>\n",
       "      <th>99</th>\n",
       "      <td>-0.101190</td>\n",
       "      <td>0.041290</td>\n",
       "      <td>0.112920</td>\n",
       "      <td>0.141844</td>\n",
       "      <td>-0.080065</td>\n",
       "      <td>0.036838</td>\n",
       "      <td>0.035546</td>\n",
       "      <td>-0.080745</td>\n",
       "      <td>0.123143</td>\n",
       "      <td>0.093176</td>\n",
       "    </tr>\n",
       "  </tbody>\n",
       "</table>\n",
       "<p>100 rows × 10 columns</p>\n",
       "</div>"
      ],
      "text/plain": [
       "           0         1         2         3         4         5         6  \\\n",
       "0  -0.080261  0.158458  0.146344  0.075466 -0.092041  0.004512 -0.010847   \n",
       "1  -0.040928  0.149799 -0.011916 -0.139635 -0.120211 -0.143306  0.041295   \n",
       "2  -0.093066  0.058889 -0.030985  0.171445 -0.018936  0.100938  0.203378   \n",
       "3  -0.119396 -0.063160 -0.181185  0.001965 -0.005684 -0.069925 -0.016849   \n",
       "4  -0.085921  0.109147 -0.022548 -0.266008 -0.064803  0.046679  0.099236   \n",
       "..       ...       ...       ...       ...       ...       ...       ...   \n",
       "95 -0.036550  0.180168  0.058374 -0.000519 -0.195549 -0.285158 -0.091823   \n",
       "96 -0.086891 -0.008140 -0.079819  0.000684  0.021268  0.196336 -0.132219   \n",
       "97 -0.095168  0.206842  0.059285  0.021017  0.063423  0.053159  0.107120   \n",
       "98 -0.086677 -0.050554  0.083049  0.067205  0.008636 -0.056683 -0.093446   \n",
       "99 -0.101190  0.041290  0.112920  0.141844 -0.080065  0.036838  0.035546   \n",
       "\n",
       "           7         8         9  \n",
       "0  -0.006441  0.084212  0.128041  \n",
       "1   0.068432 -0.163216  0.133591  \n",
       "2  -0.101044  0.065286  0.011539  \n",
       "3   0.009450  0.023683  0.015812  \n",
       "4  -0.037256 -0.066887 -0.022213  \n",
       "..       ...       ...       ...  \n",
       "95 -0.004770  0.025162 -0.175828  \n",
       "96 -0.168143  0.143436  0.089795  \n",
       "97  0.057621 -0.058249 -0.111400  \n",
       "98 -0.311376  0.067425  0.073984  \n",
       "99 -0.080745  0.123143  0.093176  \n",
       "\n",
       "[100 rows x 10 columns]"
      ]
     },
     "execution_count": 21,
     "metadata": {},
     "output_type": "execute_result"
    }
   ],
   "source": [
    "pd.DataFrame(X_k)"
   ]
  },
  {
   "cell_type": "markdown",
   "metadata": {},
   "source": [
    "Primjena standarnog k-meanse na retke od X_k(**reducirane podatke**)."
   ]
  },
  {
   "cell_type": "code",
   "execution_count": 53,
   "metadata": {},
   "outputs": [
    {
     "name": "stdout",
     "output_type": "stream",
     "text": [
      "Broj iteracija je 16\n",
      "Kordinate centroida su    0. centroid  1. centroid  2. centroid  3. centroid  4. centroid  \\\n",
      "0    -0.027447    -0.015898    -0.025331    -0.028844    -0.034079   \n",
      "1    -0.048556    -0.048944    -0.049373    -0.012187     0.013450   \n",
      "2    -0.000551     0.003862     0.013147    -0.019410    -0.025421   \n",
      "3    -0.005457    -0.068847     0.030495    -0.000378     0.001087   \n",
      "4    -0.008273     0.002237    -0.006840     0.052971    -0.027673   \n",
      "5     0.008602    -0.012473    -0.000960     0.007127     0.007518   \n",
      "6    -0.013864     0.015595     0.024164    -0.026561     0.006705   \n",
      "7    -0.001159    -0.010639     0.004942    -0.009993    -0.032932   \n",
      "8     0.020174     0.007521    -0.020214    -0.017099    -0.014165   \n",
      "9     0.041181    -0.031535     0.021814     0.003958     0.005370   \n",
      "\n",
      "   5. centroid  6. centroid  7. centroid  8. centroid  9. centroid  \n",
      "0    -0.041117    -0.026963    -0.031284    -0.031339    -0.033776  \n",
      "1     0.037876     0.002112     0.011549     0.001753    -0.012514  \n",
      "2     0.033741     0.016550    -0.055251    -0.021581     0.028424  \n",
      "3    -0.022131     0.000760    -0.014293     0.019680     0.027369  \n",
      "4     0.010733    -0.023826    -0.025911     0.020997     0.001507  \n",
      "5     0.007078    -0.047310     0.010039    -0.020651     0.021596  \n",
      "6     0.023766    -0.041297     0.006582     0.015513    -0.004936  \n",
      "7     0.013986    -0.000132     0.041935    -0.013231     0.017124  \n",
      "8     0.002775    -0.001934    -0.013980     0.043516    -0.002083  \n",
      "9     0.021278    -0.007743    -0.010536    -0.011444    -0.040125  \n",
      "Elementi redom pripadaju sljedećim klasterima Int64Index([2, 3, 4, 7, 3, 0, 3, 5, 1, 5,\n",
      "            ...\n",
      "            4, 7, 9, 9, 9, 7, 4, 4, 2, 9],\n",
      "           dtype='int64', length=1000)\n"
     ]
    }
   ],
   "source": [
    "A = pd.DataFrame(np.transpose(X_k)) #transponiramo jer smo pisali algoritam na način da smo računali da je jedan podatak - jedan stupac\n",
    "\n",
    "while True: #još uvijek nemamo dobru ideju za početnu particiju pa je ona random zasad\n",
    "    starting_partition = np.random.randint(0, k, A.shape[1])\n",
    "    s_i = np.unique(starting_partition, axis=0, return_counts=True)[1]\n",
    "    if len(s_i) == k:\n",
    "        break\n",
    "    \n",
    "\n",
    "A.columns = starting_partition\n",
    "partition = starting_partition\n",
    "\n",
    "number_of_iteration = 0\n",
    "epsilon = 0.000001\n",
    "\n",
    "Q_of_partition = np.inf\n",
    "\n",
    "while(Q_of_partition > epsilon):\n",
    "    \n",
    "    number_of_iteration += 1\n",
    "\n",
    "    s_i = np.unique(partition, axis=0, return_counts=True)[1]\n",
    "    a_i = A.groupby(level=0,axis=1).sum().add_suffix('. centroid')\n",
    "    m_i = a_i / s_i \n",
    "    \n",
    "    Q_of_partition_before = 0\n",
    "    for i in range(A.shape[1]):\n",
    "        Q_of_partition_before  += np.linalg.norm((A.iloc[:,i] - m_i.iloc[:,A.columns[i]]))\n",
    "        \n",
    "    for i in range(A.shape[1]): \n",
    "        distance_final = np.inf\n",
    "        for j in range(0, m_i.shape[1]):\n",
    "            distance = np.linalg.norm((A.iloc[:,i] - m_i.iloc[:,j]))\n",
    "            if(distance < distance_final):\n",
    "                distance_final = distance\n",
    "                tmp = list(A.columns)\n",
    "                tmp[i] = j\n",
    "                A.columns = tmp \n",
    "                \n",
    "    partition = A.columns.values\n",
    "    \n",
    "    Q_of_partition_after = 0\n",
    "    for i in range(A.shape[1]):\n",
    "        Q_of_partition_after  += np.linalg.norm((A.iloc[:,i] - m_i.iloc[:,A.columns[i]]))\n",
    "    \n",
    "    Q_of_partition = Q_of_partition_before - Q_of_partition_after\n",
    "\n",
    "print(\"Broj iteracija je\", number_of_iteration)\n",
    "print(\"Kordinate centroida su\", m_i)\n",
    "print(\"Elementi redom pripadaju sljedećim klasterima\", A.columns)"
   ]
  },
  {
   "cell_type": "markdown",
   "metadata": {},
   "source": [
    "Provjera koliko smo \"blizu\":"
   ]
  },
  {
   "cell_type": "code",
   "execution_count": 43,
   "metadata": {},
   "outputs": [
    {
     "name": "stdout",
     "output_type": "stream",
     "text": [
      "Pogodili smo  9  elementa od ukupno 1000 !\n"
     ]
    }
   ],
   "source": [
    "print(\"Pogodili smo \", np.sum(D == np.array(A.columns)), \" elementa od ukupno\", D.shape[1], \"!\")"
   ]
  },
  {
   "cell_type": "markdown",
   "metadata": {},
   "source": [
    "Ono što dalje pokušavamo jest utvrditi najbolju moguću početnu particiju -> poboljšanje relaksiranog problema pomoću QR."
   ]
  },
  {
   "cell_type": "code",
   "execution_count": 44,
   "metadata": {},
   "outputs": [],
   "source": [
    "Q, R, P = scipy.linalg.qr(np.transpose(X_k), pivoting = True)\n",
    "\n",
    "P_ = np.zeros([A.shape[1],A.shape[1]])\n",
    "for i in range(A.shape[1]):\n",
    "    P_[P[i],i] = 1\n",
    "\n",
    "\n",
    "R_11 = R[0:k, 0:k]\n",
    "R_12 = R[0:k, k:R.shape[1]]\n",
    "\n",
    "I = np.eye(k, dtype=int)\n",
    "R = np.matmul(np.linalg.inv(R_11), R_12)\n",
    "\n",
    "R_kapa = np.append(I,R,axis=1)  @  np.transpose(P_)\n",
    "R_kapa = np.absolute(R_kapa)\n",
    "starting_partition = np.argmax(R_kapa, axis=0)"
   ]
  },
  {
   "cell_type": "markdown",
   "metadata": {},
   "source": [
    "Ponovo provodimo k-means, ali sada početna particija nije random!"
   ]
  },
  {
   "cell_type": "code",
   "execution_count": 45,
   "metadata": {},
   "outputs": [
    {
     "name": "stdout",
     "output_type": "stream",
     "text": [
      "Broj iteracija je 14\n",
      "Kordinate centroida su    0. centroid  1. centroid  2. centroid  3. centroid  4. centroid  \\\n",
      "0    -0.029985    -0.030154    -0.016089    -0.026218    -0.026040   \n",
      "1     0.010173     0.006041    -0.049447    -0.054463    -0.000180   \n",
      "2    -0.053455     0.005928     0.003765     0.006779     0.008132   \n",
      "3    -0.014992     0.002704    -0.066641     0.010207     0.004243   \n",
      "4    -0.029094    -0.041877     0.000310    -0.005411    -0.012121   \n",
      "5     0.014970     0.009336    -0.012779     0.005376    -0.061860   \n",
      "6     0.006589    -0.020508     0.014389     0.007069    -0.042553   \n",
      "7     0.052067    -0.031145    -0.009388     0.000830     0.010660   \n",
      "8    -0.007765     0.021585     0.008232    -0.000462    -0.010009   \n",
      "9    -0.014526    -0.003619    -0.026973     0.037771    -0.007143   \n",
      "\n",
      "   5. centroid  6. centroid  7. centroid  8. centroid  9. centroid  \n",
      "0    -0.033291    -0.031238    -0.028808    -0.036240    -0.041303  \n",
      "1    -0.014958     0.000578    -0.013361     0.016761     0.038391  \n",
      "2     0.026933    -0.021859    -0.019431    -0.037727     0.034534  \n",
      "3     0.031510     0.022013    -0.001316    -0.005045    -0.022795  \n",
      "4     0.000534     0.025535     0.051378    -0.015204     0.011740  \n",
      "5     0.018629    -0.024811     0.010130    -0.002331     0.006965  \n",
      "6    -0.002028     0.018678    -0.028274     0.014149     0.025432  \n",
      "7     0.017445    -0.013445    -0.007892    -0.020010     0.014947  \n",
      "8    -0.005000     0.041047    -0.015110    -0.029426     0.001594  \n",
      "9    -0.036061    -0.011839     0.007320     0.008613     0.021818  \n",
      "Elementi redom pripadaju sljedećim klasterima Int64Index([5, 7, 1, 8, 7, 1, 7, 9, 2, 9,\n",
      "            ...\n",
      "            8, 0, 5, 5, 5, 8, 8, 1, 3, 5],\n",
      "           dtype='int64', length=1000)\n"
     ]
    }
   ],
   "source": [
    "A = pd.DataFrame(A)\n",
    "\n",
    "partition = starting_partition\n",
    "A.columns = partition \n",
    "\n",
    "number_of_iteration = 0\n",
    "epsilon = 0.00001\n",
    "\n",
    "Q_of_partition = np.inf\n",
    "\n",
    "while(Q_of_partition > epsilon):\n",
    "    \n",
    "    number_of_iteration += 1\n",
    "    \n",
    "    Q_of_partition_before = 0\n",
    "    for i in range(A.shape[1]):\n",
    "        Q_of_partition_before  += np.linalg.norm((A.iloc[:,i] - m_i.iloc[:,A.columns[i]]))\n",
    "    \n",
    "    s_i = np.unique(partition, axis=0, return_counts=True)[1]\n",
    "    a_i = A.groupby(level=0,axis=1).sum().add_suffix('. centroid')\n",
    "    m_i = a_i / s_i \n",
    "    for i in range(A.shape[1]): \n",
    "        distance_final = np.inf\n",
    "        for j in range(0, m_i.shape[1]):\n",
    "            distance = np.linalg.norm((A.iloc[:,i] - m_i.iloc[:,j]))\n",
    "            if(distance < distance_final):\n",
    "                distance_final = distance\n",
    "                tmp = list(A.columns)\n",
    "                tmp[i] = j\n",
    "                A.columns = tmp  \n",
    "    partition = A.columns.values\n",
    "    \n",
    "    Q_of_partition_after = 0\n",
    "    for i in range(A.shape[1]):\n",
    "        Q_of_partition_after  += np.linalg.norm((A.iloc[:,i] - m_i.iloc[:,A.columns[i]]))\n",
    "    \n",
    "    Q_of_partition = Q_of_partition_before - Q_of_partition_after\n",
    "\n",
    "print(\"Broj iteracija je\", number_of_iteration)\n",
    "print(\"Kordinate centroida su\", m_i)\n",
    "print(\"Elementi redom pripadaju sljedećim klasterima\", A.columns)"
   ]
  },
  {
   "cell_type": "markdown",
   "metadata": {},
   "source": [
    "Provjera koliko smo \"blizu\":"
   ]
  },
  {
   "cell_type": "code",
   "execution_count": 46,
   "metadata": {},
   "outputs": [
    {
     "name": "stdout",
     "output_type": "stream",
     "text": [
      "Pogodili smo  24  elementa od ukupno 1000 !\n"
     ]
    }
   ],
   "source": [
    "print(\"Pogodili smo \", np.sum(D == np.array(A.columns)), \" elementa od ukupno\", D.shape[1], \"!\")"
   ]
  },
  {
   "cell_type": "code",
   "execution_count": 22,
   "metadata": {},
   "outputs": [],
   "source": [
    "def K_means(A, k, starting_partition, epsilon): #A is np.array, k is number of clasters, starting_partition is starting partition, epsilon is stop criterion\n",
    "    \n",
    "    A = pd.DataFrame(A)\n",
    "    partition = starting_partition\n",
    "    A.columns = partition \n",
    "\n",
    "    number_of_iteration = 0\n",
    "    epsilon = 0.00001\n",
    "\n",
    "    Q_of_partition = np.inf\n",
    "\n",
    "    while(Q_of_partition > epsilon):\n",
    "    \n",
    "        number_of_iteration += 1\n",
    "    \n",
    "        s_i = np.unique(partition, axis=0, return_counts=True)[1]\n",
    "        a_i = A.groupby(level=0,axis=1).sum().add_suffix('. centroid')\n",
    "        m_i = a_i / s_i \n",
    "        \n",
    "        Q_of_partition_before = 0\n",
    "        for i in range(A.shape[1]):\n",
    "            Q_of_partition_before  += np.linalg.norm((A.iloc[:,i] - m_i.iloc[:,A.columns[i]]))\n",
    "            \n",
    "        for i in range(A.shape[1]): \n",
    "            distance_final = np.inf\n",
    "            for j in range(0, m_i.shape[1]):\n",
    "                distance = np.linalg.norm((A.iloc[:,i] - m_i.iloc[:,j]))\n",
    "                if(distance < distance_final):\n",
    "                    distance_final = distance\n",
    "                    tmp = list(A.columns)\n",
    "                    tmp[i] = j\n",
    "                    A.columns = tmp  \n",
    "        partition = A.columns.values\n",
    "    \n",
    "        Q_of_partition_after = 0\n",
    "        for i in range(A.shape[1]):\n",
    "            Q_of_partition_after  += np.linalg.norm((A.iloc[:,i] - m_i.iloc[:,A.columns[i]]))\n",
    "    \n",
    "        Q_of_partition = Q_of_partition_before - Q_of_partition_after\n",
    "        \n",
    "    return (A, m_i)\n",
    "    "
   ]
  },
  {
   "cell_type": "code",
   "execution_count": 23,
   "metadata": {},
   "outputs": [
    {
     "ename": "NameError",
     "evalue": "name 'starting_partition' is not defined",
     "output_type": "error",
     "traceback": [
      "\u001b[0;31m---------------------------------------------------------------------------\u001b[0m",
      "\u001b[0;31mNameError\u001b[0m                                 Traceback (most recent call last)",
      "\u001b[0;32m/var/folders/d3/xr9k6gp148s_pc6q399vjm2h0000gn/T/ipykernel_3071/2062568677.py\u001b[0m in \u001b[0;36m<module>\u001b[0;34m\u001b[0m\n\u001b[0;32m----> 1\u001b[0;31m \u001b[0mK_means\u001b[0m\u001b[0;34m(\u001b[0m\u001b[0mA\u001b[0m\u001b[0;34m,\u001b[0m\u001b[0;36m10\u001b[0m\u001b[0;34m,\u001b[0m\u001b[0mstarting_partition\u001b[0m\u001b[0;34m,\u001b[0m\u001b[0;36m0.0001\u001b[0m\u001b[0;34m)\u001b[0m\u001b[0;34m\u001b[0m\u001b[0;34m\u001b[0m\u001b[0m\n\u001b[0m",
      "\u001b[0;31mNameError\u001b[0m: name 'starting_partition' is not defined"
     ]
    }
   ],
   "source": [
    "K_means(A,10,starting_partition,0.0001)"
   ]
  },
  {
   "cell_type": "code",
   "execution_count": null,
   "metadata": {},
   "outputs": [],
   "source": [
    "solution = np.zeros(D_test[0].shape[0])\n",
    "\n",
    "for i in range(D_test[0].shape[0]):\n",
    "    claster = D_test[1][i]\n",
    "    index = np.where(A_train[-1, :] == claster)[0]\n",
    "    numbers = D_train[0][index]\n",
    "    if(numbers.size != 0 ):\n",
    "        solution[i] = mode(numbers)\n",
    "    #else:\n",
    "        #final_number = D_test[0][i]\n",
    "    \n",
    "        \n",
    "print(solution)"
   ]
  }
 ],
 "metadata": {
  "interpreter": {
   "hash": "eeb592eeb14baf80ba7e3ad598b9cc718d92fa62785d72005ca19f7c0e0c833d"
  },
  "kernelspec": {
   "display_name": "Python 3.8.5 64-bit ('base': conda)",
   "language": "python",
   "name": "python3"
  },
  "language_info": {
   "codemirror_mode": {
    "name": "ipython",
    "version": 3
   },
   "file_extension": ".py",
   "mimetype": "text/x-python",
   "name": "python",
   "nbconvert_exporter": "python",
   "pygments_lexer": "ipython3",
   "version": "3.8.5"
  },
  "orig_nbformat": 4
 },
 "nbformat": 4,
 "nbformat_minor": 2
}
