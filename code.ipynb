{
 "cells": [
  {
   "cell_type": "markdown",
   "metadata": {},
   "source": [
    "### Spectral Relaxation for K-means Clustering"
   ]
  },
  {
   "cell_type": "code",
   "execution_count": 21,
   "metadata": {},
   "outputs": [],
   "source": [
    "import numpy as np\n",
    "import pandas as pd\n",
    "from scipy.spatial.distance import cdist "
   ]
  },
  {
   "cell_type": "code",
   "execution_count": 247,
   "metadata": {},
   "outputs": [
    {
     "data": {
      "text/plain": [
       "2"
      ]
     },
     "execution_count": 247,
     "metadata": {},
     "output_type": "execute_result"
    }
   ],
   "source": [
    "m_i.shape[0]"
   ]
  },
  {
   "cell_type": "code",
   "execution_count": 255,
   "metadata": {},
   "outputs": [
    {
     "name": "stdout",
     "output_type": "stream",
     "text": [
      "[2 3]\n",
      "   1_centroid_klastera  2_centroid_klastera\n",
      "0                   10                    6\n",
      "1                    3                    4\n",
      "   1_centroid_klastera  2_centroid_klastera\n",
      "0                  5.0             2.000000\n",
      "1                  1.5             1.333333\n",
      "   2  2  2  1  1\n",
      "0  1  1  4  5  5\n",
      "1  1  2  1  1  2\n"
     ]
    }
   ],
   "source": [
    "A = np.array([[1,1,4,5,5], [1, 2,1,1,2]]) #nekih recimo 5 random 2D tocaka koje zelim staviti u 10 klastera\n",
    "A = pd.DataFrame(A)\n",
    "\n",
    "nmax = 2 #broj iteracija - zasad kriterij zaustavljanja\n",
    "k = 2 #broj klastera\n",
    "starting_partition = np.random.randint(1,k+1,A.shape[1]) #pocetna particija je nasumicna\n",
    "A.columns = starting_partition #i-ti stupac pripada j-ti klasteru ekvivaletno je da se i-ti stupac naziva j, tj. imena stupaca oponasaju imena klastera\n",
    "#print(A)\n",
    "\n",
    "for n in range(nmax):\n",
    "    #s_i = np.bincount(starting_partition,minlength=k) #ovaj minlenght jako bitan, kao argument dostupan tek u najnovijoj verziji al bez njega kod u nekim rijetkim slucajevima ne radi\n",
    "    #s_i = s_i[1:k+21] #ovaj bincount broji i pojavljivanje 0 pa kasnije zbog dijeljenja moram na to paziti i maknuti\n",
    "    s_i = np.unique(starting_partition, axis=0, return_counts=True)[1]\n",
    "    if(n == 1):\n",
    "        print(s_i)\n",
    "    #print(\"s-ovi\", s_i)\n",
    "    a_i = A.groupby(level=0,axis=1).sum().add_suffix('_centroid_klastera')\n",
    "    if(n == 1):\n",
    "        print(a_i)\n",
    "    #print(\"a-ovi\", a_i)\n",
    "    m_i = a_i / s_i \n",
    "    if(n == 1):\n",
    "        print(m_i)\n",
    "    #print(\"m-ovi\", m_i)\n",
    "    for i in range(A.shape[1]): # za svaki stupac od A\n",
    "        element = A.iloc[:,i] #i-ti stupac je element koji gledam\n",
    "        #print(\"element\", i, element, \"STOP\")\n",
    "        distance_final = np.linalg.norm((A.iloc[:,i] - m_i.iloc[:,0]).values,axis=0) #udaljenost od i-tog stupca i prvog centroida\n",
    "        #pažnja, oznaka je 0 u m_i, al zapravo se radi o prvom\n",
    "        flat = 0\n",
    "        tmp = range(1,m_i.shape[0])\n",
    "        for j in tmp: #za svaki centroid, krećemo od 1\n",
    "            #print(\"centroid\",m_i.iloc[:,j])\n",
    "            distance = np.linalg.norm((A.iloc[:,i] - m_i.iloc[:,j]).values,axis=0) #udaljenost i-tog elementa i j-tog centroida\n",
    "            if(distance < distance_final): #mijenja se klaster jer mu je ovaj centroid blize, za to nas je to rename stupca\n",
    "                distance_final = distance\n",
    "                flag = 1\n",
    "                A.rename(columns={A.columns[i]: (j+1)}, inplace = True)\n",
    "        if(flag == 0): #nije se promjenio klaster, pripada prvom klasteru\n",
    "            A.rename(columns={A.columns[i]: 1}, inplace = True) #jer mu je najblizi 0-ti stupac\n",
    "    starting_partition = A.columns.values #imamo novu particiju za sljedeću iteraciju\n",
    "    #print(starting_partition)\n",
    "    #print(\"HM\")\n",
    "\n",
    "print(A)          "
   ]
  },
  {
   "cell_type": "code",
   "execution_count": 199,
   "metadata": {},
   "outputs": [
    {
     "name": "stdout",
     "output_type": "stream",
     "text": [
      "1.5811388300841898\n"
     ]
    },
    {
     "data": {
      "text/plain": [
       "2.6874192494328497"
      ]
     },
     "execution_count": 199,
     "metadata": {},
     "output_type": "execute_result"
    }
   ],
   "source": [
    "print(np.linalg.norm((A.iloc[:,0] - m_i.iloc[:,0]).values,axis=0))\n",
    "np.linalg.norm((A.iloc[:,0] - m_i.iloc[:,1]).values,axis=0)"
   ]
  },
  {
   "cell_type": "code",
   "execution_count": null,
   "metadata": {},
   "outputs": [],
   "source": []
  }
 ],
 "metadata": {
  "interpreter": {
   "hash": "eeb592eeb14baf80ba7e3ad598b9cc718d92fa62785d72005ca19f7c0e0c833d"
  },
  "kernelspec": {
   "display_name": "Python 3.8.5 64-bit ('base': conda)",
   "language": "python",
   "name": "python3"
  },
  "language_info": {
   "codemirror_mode": {
    "name": "ipython",
    "version": 3
   },
   "file_extension": ".py",
   "mimetype": "text/x-python",
   "name": "python",
   "nbconvert_exporter": "python",
   "pygments_lexer": "ipython3",
   "version": "3.8.5"
  },
  "orig_nbformat": 4
 },
 "nbformat": 4,
 "nbformat_minor": 2
}
