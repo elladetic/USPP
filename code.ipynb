{
 "cells": [
  {
   "cell_type": "markdown",
   "metadata": {},
   "source": [
    "### Spectral Relaxation for K-means Clustering"
   ]
  },
  {
   "cell_type": "markdown",
   "metadata": {},
   "source": [
    "First version"
   ]
  },
  {
   "cell_type": "code",
   "execution_count": 1,
   "metadata": {},
   "outputs": [],
   "source": [
    "import numpy as np\n",
    "import pandas as pd\n",
    "from scipy.spatial.distance import cdist \n",
    "from tqdm import tqdm\n",
    "import matplotlib.pyplot as plt"
   ]
  },
  {
   "cell_type": "code",
   "execution_count": 3,
   "metadata": {},
   "outputs": [
    {
     "name": "stdout",
     "output_type": "stream",
     "text": [
      "[[1 1 4 5 5]\n",
      " [1 2 1 1 2]]\n",
      "   0  1  2  3  4\n",
      "0  1  1  4  5  5\n",
      "1  1  2  1  1  2\n"
     ]
    }
   ],
   "source": [
    "A = np.array([[1,1,4,5,5], [1, 2,1,1,2]]) #jednostavna matrica \n",
    "print(A)\n",
    "print(pd.DataFrame(A))"
   ]
  },
  {
   "cell_type": "code",
   "execution_count": 4,
   "metadata": {},
   "outputs": [
    {
     "data": {
      "image/png": "[encoded data removed]",
      "text/plain": [
       "<Figure size 432x288 with 1 Axes>"
      ]
     },
     "metadata": {
      "needs_background": "light"
     },
     "output_type": "display_data"
    }
   ],
   "source": [
    "A = np.array([[1,1,4,5,5], [1, 2,1,1,2]]) #jednostavan primjer\n",
    "plt.plot(A[0,:],A[1,:], 'ro')\n",
    "plt.axis([0, 6, 0, 20])\n",
    "plt.show()"
   ]
  },
  {
   "cell_type": "code",
   "execution_count": 35,
   "metadata": {},
   "outputs": [
    {
     "name": "stdout",
     "output_type": "stream",
     "text": [
      "         0         1          2         3          4         5          6   \\\n",
      "0  8.044549  9.883210  10.303079  9.495095  10.040599  8.177206  10.832563   \n",
      "1  2.225365  3.152283   2.190810  2.518609  -0.086184  1.331959   2.344524   \n",
      "\n",
      "         7         8         9   ...        90        91        92        93  \\\n",
      "0  9.566723  9.501055  9.701080  ... -3.458766 -4.212722 -3.342893 -4.639311   \n",
      "1  1.562739  3.378033  1.761686  ...  1.922130  3.430442  1.554050  4.502817   \n",
      "\n",
      "         94        95        96        97        98        99  \n",
      "0 -4.363386 -3.737367 -4.194781 -4.876594 -5.025584 -5.427860  \n",
      "1  4.640729  1.473368  1.927335  4.679656  3.354687  3.828168  \n",
      "\n",
      "[2 rows x 100 columns]\n"
     ]
    },
    {
     "name": "stderr",
     "output_type": "stream",
     "text": [
      "100%|██████████| 5/5 [00:01<00:00,  4.82it/s]"
     ]
    },
    {
     "name": "stdout",
     "output_type": "stream",
     "text": [
      "          0         0          0         0          0         0          0  \\\n",
      "0  8.044549  9.883210  10.303079  9.495095  10.040599  8.177206  10.832563   \n",
      "1  2.225365  3.152283   2.190810  2.518609  -0.086184  1.331959   2.344524   \n",
      "\n",
      "          0         0         0  ...         1         1         1         1  \\\n",
      "0  9.566723  9.501055  9.701080  ... -3.458766 -4.212722 -3.342893 -4.639311   \n",
      "1  1.562739  3.378033  1.761686  ...  1.922130  3.430442  1.554050  4.502817   \n",
      "\n",
      "          1         1         1         1         1         1  \n",
      "0 -4.363386 -3.737367 -4.194781 -4.876594 -5.025584 -5.427860  \n",
      "1  4.640729  1.473368  1.927335  4.679656  3.354687  3.828168  \n",
      "\n",
      "[2 rows x 100 columns]\n",
      "   0_centroid_klastera  1_centroid_klastera\n",
      "0             9.941625            -3.861249\n",
      "1             1.854261             2.786620\n"
     ]
    },
    {
     "name": "stderr",
     "output_type": "stream",
     "text": [
      "\n"
     ]
    }
   ],
   "source": [
    "#\"\"\"\"\n",
    "centri = np.array([[10, 2], [-4, 3]], dtype=float)\n",
    "A = [np.random.randn(2, 50) + np.expand_dims(centar, axis=1) \n",
    "    for centar in centri]\n",
    "A = np.concatenate(A, axis=1)\n",
    "#\"\"\"\n",
    "\n",
    "A = pd.DataFrame(A)\n",
    "print(A)\n",
    "nmax = 5\n",
    "k = 3\n",
    "\n",
    "while True:\n",
    "    starting_partition = np.random.randint(0, k, A.shape[1])\n",
    "    s_i = np.unique(starting_partition, axis=0, return_counts=True)[1]\n",
    "    if len(s_i) == k:\n",
    "        break\n",
    "\n",
    "A.columns = starting_partition \n",
    "\n",
    "for n in tqdm(range(nmax)):\n",
    "    s_i = np.unique(starting_partition, axis=0, return_counts=True)[1]\n",
    "    a_i = A.groupby(level=0,axis=1).sum().add_suffix('_centroid_klastera')\n",
    "    m_i = a_i / s_i \n",
    "    for i in range(A.shape[1]): \n",
    "        distance_final = np.inf\n",
    "        for j in range(0, m_i.shape[1]):\n",
    "            distance = np.linalg.norm((A.iloc[:,i] - m_i.iloc[:,j]))\n",
    "            if(distance < distance_final):\n",
    "                distance_final = distance\n",
    "                tmp = list(A.columns)\n",
    "                tmp[i] = j\n",
    "                A.columns = tmp  \n",
    "    starting_partition = A.columns.values \n",
    "\n",
    "print(A)   \n",
    "print(m_i)"
   ]
  },
  {
   "cell_type": "code",
   "execution_count": 34,
   "metadata": {},
   "outputs": [
    {
     "data": {
      "image/png": "[encoded data removed]",
      "text/plain": [
       "<Figure size 432x288 with 1 Axes>"
      ]
     },
     "metadata": {
      "needs_background": "light"
     },
     "output_type": "display_data"
    }
   ],
   "source": [
    "plt.plot(A.iloc[0,:],A.iloc[1,:], 'ro')\n",
    "plt.plot(m_i.iloc[0,:],m_i.iloc[1,:], 'bx', ms=10)\n",
    "plt.show()\n",
    "#plavi centroidi"
   ]
  },
  {
   "cell_type": "markdown",
   "metadata": {},
   "source": [
    "## 9. prosinac 2021."
   ]
  },
  {
   "cell_type": "code",
   "execution_count": 1,
   "metadata": {},
   "outputs": [],
   "source": [
    "import scipy.io\n",
    "import numpy as np\n",
    "from scipy.sparse.linalg import eigs\n",
    "\n",
    "mat_1 = scipy.io.loadmat('azip.mat')\n",
    "A = mat_1['azip']\n",
    "mat_2 = scipy.io.loadmat('dzip.mat')\n",
    "D = mat_2['dzip']"
   ]
  },
  {
   "cell_type": "code",
   "execution_count": 77,
   "metadata": {},
   "outputs": [],
   "source": [
    "##karlov kod\n",
    "U, S, V = np.linalg.svd(np.matmul(np.transpose(A),A))\n",
    "V = V[0:k, :]\n",
    "Q, R = np.linalg.qr(np.transpose(V))\n",
    "R_1 = R[0:k, 0:k]\n",
    "R_2 = R[0:k, (k+1):k]"
   ]
  },
  {
   "cell_type": "code",
   "execution_count": 256,
   "metadata": {},
   "outputs": [],
   "source": [
    "new_A = np.empty([256,0])\n",
    "k = 10\n",
    "\n",
    "for i in range(k):\n",
    "    new_A = np.append(new_A, A[:, np.where(D == i)[1]], axis=1)\n",
    "    \n",
    "#U, S, V = np.linalg.svd(np.matmul(np.transpose(new_A),new_A))\n",
    "\n",
    "#vals, vecs = eigs(np.matmul(np.transpose(new_A),new_A), k=k, which = 'LM') \n"
   ]
  },
  {
   "cell_type": "code",
   "execution_count": 321,
   "metadata": {},
   "outputs": [
    {
     "name": "stderr",
     "output_type": "stream",
     "text": [
      "/var/folders/d3/xr9k6gp148s_pc6q399vjm2h0000gn/T/ipykernel_1305/1397814190.py:7: RuntimeWarning: invalid value encountered in sqrt\n",
      "  np.sqrt(v)\n"
     ]
    },
    {
     "data": {
      "text/plain": [
       "array([[0.88580754,        nan],\n",
       "       [0.78735804, 0.88580754]])"
      ]
     },
     "execution_count": 321,
     "metadata": {},
     "output_type": "execute_result"
    }
   ],
   "source": [
    "J = np.random.rand(2,2)\n",
    "\n",
    "U, S, V = np.linalg.svd(J)\n",
    "\n",
    "w, v = np.linalg.eig(np.matmul(np.transpose(J), J)) #w su sv. vrijednosti\n",
    "\n",
    "np.sqrt(v)"
   ]
  },
  {
   "cell_type": "code",
   "execution_count": 339,
   "metadata": {},
   "outputs": [
    {
     "data": {
      "text/plain": [
       "array([[-0.44551602+0.j,  0.16750043+0.j],\n",
       "       [-0.16620967+0.j, -0.10194002+0.j],\n",
       "       [-0.41719061+0.j, -0.24847232+0.j],\n",
       "       [ 0.22978774+0.j,  0.08776993+0.j],\n",
       "       [ 0.24323818+0.j, -0.01166536+0.j],\n",
       "       [ 0.34393676+0.j,  0.22861141+0.j],\n",
       "       [ 0.02774591+0.j,  0.39844225+0.j],\n",
       "       [ 0.18511181+0.j,  0.34657747+0.j],\n",
       "       [-0.00916476+0.j,  0.03832912+0.j],\n",
       "       [ 0.12484411+0.j, -0.34969772+0.j],\n",
       "       [ 0.25373141+0.j, -0.45979354+0.j],\n",
       "       [-0.50265369+0.j,  0.1437756 +0.j],\n",
       "       [ 0.04284254+0.j, -0.45276839+0.j]])"
      ]
     },
     "execution_count": 339,
     "metadata": {},
     "output_type": "execute_result"
    }
   ],
   "source": [
    "from scipy.sparse.linalg import eigs\n",
    "\n",
    "J = np.eye(13)\n",
    "\n",
    "vals, vecs = eigs(np.matmul(np.transpose(J), J), k=2) \n",
    "U, S, V = np.linalg.svd(J)\n",
    "vecs"
   ]
  },
  {
   "cell_type": "markdown",
   "metadata": {},
   "source": [
    "## 14.12.2021."
   ]
  },
  {
   "cell_type": "code",
   "execution_count": 2,
   "metadata": {},
   "outputs": [],
   "source": [
    "import scipy.io\n",
    "import numpy as np\n",
    "from scipy.sparse.linalg import eigs"
   ]
  },
  {
   "cell_type": "markdown",
   "metadata": {},
   "source": [
    "Učitavanje podataka"
   ]
  },
  {
   "cell_type": "code",
   "execution_count": 85,
   "metadata": {},
   "outputs": [],
   "source": [
    "mat_1 = scipy.io.loadmat('azip.mat')\n",
    "A = mat_1['azip'] #data\n",
    "\n",
    "mat_2 = scipy.io.loadmat('dzip.mat')\n",
    "D = mat_2['dzip'] #data\n",
    "\n",
    "k = 10 #number of claster"
   ]
  },
  {
   "cell_type": "markdown",
   "metadata": {},
   "source": [
    "Prvo ćemo presložiti matricu podataka(**A**) na način da združimo one elemente koji pripadaju istom klasteru i napravimo od njih blokove. Nakon toga, pomoću kreiranih blokova, računamo broj elementa klastera(**$s_i$**) i nove centroide (**$m_i$**) pomoću formula s prezentacije(*prva prezentacija - slajd 35*)."
   ]
  },
  {
   "cell_type": "code",
   "execution_count": 172,
   "metadata": {},
   "outputs": [
    {
     "name": "stdout",
     "output_type": "stream",
     "text": [
      "(2, 3)\n",
      "(3,)\n",
      "[[1 2 3]\n",
      " [4 5 6]\n",
      " [7 8 9]]\n"
     ]
    }
   ],
   "source": [
    "import numpy as np\n",
    "arr = np.array([[1,2,3],[4,5,6]])\n",
    "print(arr.shape)\n",
    "row = np.array([7,8,9])\n",
    "print(row.shape)\n",
    "arr = np.vstack([arr,row])\n",
    "print(arr)"
   ]
  },
  {
   "cell_type": "code",
   "execution_count": 179,
   "metadata": {},
   "outputs": [
    {
     "name": "stdout",
     "output_type": "stream",
     "text": [
      "(0,) (319,)\n",
      "(319,) (252,)\n",
      "(571,) (202,)\n",
      "(773,) (131,)\n",
      "(904,) (122,)\n",
      "(1026,) (88,)\n",
      "(1114,) (151,)\n",
      "(1265,) (166,)\n",
      "(1431,) (144,)\n",
      "(1575,) (132,)\n"
     ]
    },
    {
     "data": {
      "text/plain": [
       "array([   8.,   11.,   18., ..., 1701., 1703., 1705.])"
      ]
     },
     "execution_count": 179,
     "metadata": {},
     "output_type": "execute_result"
    }
   ],
   "source": [
    "new_A = np.empty([A.shape[0],0])\n",
    "s_i = np.empty(k, dtype=int) \n",
    "m_i = np.empty([A.shape[0],k])\n",
    "permutation = np.empty(0,) \n",
    "\n",
    "for i in range(k):\n",
    "    A_i = A[:, np.where(D == i)[1]] #ovo je 319 puta 0\n",
    "    print(permutation.shape,np.where(D == i)[1].shape) \n",
    "    permutation = np.append(permutation, np.where(D == i)[1], axis=0) #ovo ide po retcima\n",
    "    np.where(D == i)[1]\n",
    "    new_A = np.append(new_A, A_i, axis=1)\n",
    "    s_i[i] = np.where(D == i)[1].shape[0]\n",
    "    e = np.ones(s_i[i])\n",
    "    m_i[:,i] = (1/s_i[i]) * np.matmul(A_i, e) \n"
   ]
  },
  {
   "cell_type": "markdown",
   "metadata": {},
   "source": [
    "Konačno, formuliramo matricu X koja će sadržavati informacije o pripadnosti elementa početnoj particiji."
   ]
  },
  {
   "cell_type": "code",
   "execution_count": 144,
   "metadata": {},
   "outputs": [
    {
     "data": {
      "text/plain": [
       "0.011363636363636364"
      ]
     },
     "execution_count": 144,
     "metadata": {},
     "output_type": "execute_result"
    }
   ],
   "source": [
    "X = np.zeros([A.shape[1],k])\n",
    "\n",
    "for i in range(k):\n",
    "    if( i == 0):\n",
    "        X[i:s_i[i], 0] = 1/s_i[1]\n",
    "    else:\n",
    "        X[ s_i[0:i].sum() : s_i[0:i].sum() + s_i[i], i] = 1/s_i[i-1]"
   ]
  },
  {
   "cell_type": "markdown",
   "metadata": {},
   "source": [
    "Na kraju, preostaje ponovo inverzno djelovati istom permutacijom na matricu $X$ kako bismo dobili $\\tilde{X}$."
   ]
  },
  {
   "cell_type": "code",
   "execution_count": 202,
   "metadata": {},
   "outputs": [],
   "source": [
    "X_tilde = np.zeros([A.shape[1],k])\n",
    "\n",
    "for i in range(X.shape[0]):\n",
    "    index = list(permutation).index(i)  #daje indeks retka \n",
    "    X_tilde[int(permutation[i]), :] = X[i, :] "
   ]
  },
  {
   "cell_type": "markdown",
   "metadata": {},
   "source": [
    "Preostaje zapisati početnu particiju."
   ]
  },
  {
   "cell_type": "code",
   "execution_count": 243,
   "metadata": {},
   "outputs": [],
   "source": [
    "start_partition = np.empty(D.shape[1], dtype=int)\n",
    "\n",
    "for i in range(X.shape[0]):\n",
    "    start_partition[i] = int(np.where(X_tilde[i, :] != 0)[0])"
   ]
  },
  {
   "cell_type": "code",
   "execution_count": 245,
   "metadata": {},
   "outputs": [
    {
     "data": {
      "text/plain": [
       "1.0"
      ]
     },
     "execution_count": 245,
     "metadata": {},
     "output_type": "execute_result"
    }
   ],
   "source": [
    "from sklearn.metrics import accuracy_score\n",
    "\n",
    "start_partition = np.reshape(start_partition, (D.shape[1],1))\n",
    "accuracy_score(start_partition, np.transpose(D))"
   ]
  },
  {
   "cell_type": "markdown",
   "metadata": {},
   "source": [
    "Vidimo da se ova početna particija 100% podudara s točnim rješenjima, pa možemo reći da je idealna, odnosno da je naš algoritam jako dobar."
   ]
  },
  {
   "cell_type": "markdown",
   "metadata": {},
   "source": []
  }
 ],
 "metadata": {
  "interpreter": {
   "hash": "eeb592eeb14baf80ba7e3ad598b9cc718d92fa62785d72005ca19f7c0e0c833d"
  },
  "kernelspec": {
   "display_name": "Python 3.8.5 64-bit ('base': conda)",
   "language": "python",
   "name": "python3"
  },
  "language_info": {
   "codemirror_mode": {
    "name": "ipython",
    "version": 3
   },
   "file_extension": ".py",
   "mimetype": "text/x-python",
   "name": "python",
   "nbconvert_exporter": "python",
   "pygments_lexer": "ipython3",
   "version": "3.8.5"
  },
  "orig_nbformat": 4
 },
 "nbformat": 4,
 "nbformat_minor": 2
}
