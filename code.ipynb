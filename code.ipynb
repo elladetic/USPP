{
 "cells": [
  {
   "cell_type": "markdown",
   "metadata": {},
   "source": [
    "### Spectral Relaxation for K-means Clustering"
   ]
  },
  {
   "cell_type": "markdown",
   "metadata": {},
   "source": [
    "First version"
   ]
  },
  {
   "cell_type": "code",
   "execution_count": 15,
   "metadata": {},
   "outputs": [],
   "source": [
    "import numpy as np\n",
    "import pandas as pd\n",
    "from scipy.spatial.distance import cdist \n",
    "from tqdm import tqdm\n",
    "import matplotlib.pyplot as plt"
   ]
  },
  {
   "cell_type": "code",
   "execution_count": 16,
   "metadata": {},
   "outputs": [
    {
     "data": {
      "image/png": "[encoded data removed]",
      "text/plain": [
       "<Figure size 432x288 with 1 Axes>"
      ]
     },
     "metadata": {
      "needs_background": "light"
     },
     "output_type": "display_data"
    }
   ],
   "source": [
    "A = np.array([[1,1,4,5,5], [1, 2,1,1,2]])\n",
    "plt.plot(A[0,:],A[1,:], 'ro')\n",
    "plt.axis([0, 6, 0, 20])\n",
    "plt.show()"
   ]
  },
  {
   "cell_type": "code",
   "execution_count": 19,
   "metadata": {},
   "outputs": [
    {
     "name": "stderr",
     "output_type": "stream",
     "text": [
      "100%|██████████| 5/5 [00:00<00:00, 43.50it/s]"
     ]
    },
    {
     "name": "stdout",
     "output_type": "stream",
     "text": [
      "   1  2  0  0  0\n",
      "0  1  1  4  5  5\n",
      "1  1  2  1  1  2\n",
      "   0_centroid_klastera  1_centroid_klastera  2_centroid_klastera\n",
      "0             4.666667                  1.0                  1.0\n",
      "1             1.333333                  1.0                  2.0\n"
     ]
    },
    {
     "name": "stderr",
     "output_type": "stream",
     "text": [
      "\n"
     ]
    }
   ],
   "source": [
    "\"\"\"\"\"\n",
    "centri = np.array([[10, 2], [-4, 3], [7, -5]], dtype=float)\n",
    "A = [np.random.randn(2, 10) + np.expand_dims(centar, axis=1) \n",
    "    for centar in centri]\n",
    "A = np.concatenate(A, axis=1)\n",
    "\n",
    "\"\"\" \n",
    "A = pd.DataFrame(A)\n",
    "nmax = 5\n",
    "k = 3\n",
    "\n",
    "while True:\n",
    "    starting_partition = np.random.randint(0, k, A.shape[1])\n",
    "    s_i = np.unique(starting_partition, axis=0, return_counts=True)[1]\n",
    "    if len(s_i) == k:\n",
    "        break\n",
    "\n",
    "A.columns = starting_partition \n",
    "\n",
    "for n in tqdm(range(nmax)):\n",
    "    s_i = np.unique(starting_partition, axis=0, return_counts=True)[1]\n",
    "    a_i = A.groupby(level=0,axis=1).sum().add_suffix('_centroid_klastera')\n",
    "    m_i = a_i / s_i \n",
    "    for i in range(A.shape[1]): \n",
    "        distance_final = np.inf\n",
    "        for j in range(0, m_i.shape[1]):\n",
    "            distance = np.linalg.norm((A.iloc[:,i] - m_i.iloc[:,j]))\n",
    "            if(distance < distance_final):\n",
    "                distance_final = distance\n",
    "                tmp = list(A.columns)\n",
    "                tmp[i] = j\n",
    "                A.columns = tmp  \n",
    "    starting_partition = A.columns.values \n",
    "\n",
    "print(A)   \n",
    "print(m_i)"
   ]
  },
  {
   "cell_type": "code",
   "execution_count": null,
   "metadata": {},
   "outputs": [],
   "source": []
  },
  {
   "cell_type": "code",
   "execution_count": null,
   "metadata": {},
   "outputs": [],
   "source": []
  }
 ],
 "metadata": {
  "interpreter": {
   "hash": "eeb592eeb14baf80ba7e3ad598b9cc718d92fa62785d72005ca19f7c0e0c833d"
  },
  "kernelspec": {
   "display_name": "Python 3.8.5 64-bit ('base': conda)",
   "language": "python",
   "name": "python3"
  },
  "language_info": {
   "codemirror_mode": {
    "name": "ipython",
    "version": 3
   },
   "file_extension": ".py",
   "mimetype": "text/x-python",
   "name": "python",
   "nbconvert_exporter": "python",
   "pygments_lexer": "ipython3",
   "version": "3.8.5"
  },
  "orig_nbformat": 4
 },
 "nbformat": 4,
 "nbformat_minor": 2
}
