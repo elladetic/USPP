{
 "cells": [
  {
   "cell_type": "markdown",
   "metadata": {},
   "source": [
    "### Spectral Relaxation for K-means Clustering"
   ]
  },
  {
   "cell_type": "markdown",
   "metadata": {},
   "source": [
    "First version"
   ]
  },
  {
   "cell_type": "code",
   "execution_count": 3,
   "metadata": {},
   "outputs": [],
   "source": [
    "import numpy as np\n",
    "import pandas as pd\n",
    "from scipy.spatial.distance import cdist \n",
    "from tqdm import tqdm\n",
    "import matplotlib.pyplot as plt"
   ]
  },
  {
   "cell_type": "code",
   "execution_count": 4,
   "metadata": {},
   "outputs": [
    {
     "name": "stdout",
     "output_type": "stream",
     "text": [
      "[[1 1 4 5 5]\n",
      " [1 2 1 1 2]]\n",
      "   0  1  2  3  4\n",
      "0  1  1  4  5  5\n",
      "1  1  2  1  1  2\n"
     ]
    }
   ],
   "source": [
    "A = np.array([[1,1,4,5,5], [1, 2,1,1,2]]) #jednostavna matrica \n",
    "print(A)\n",
    "print(pd.DataFrame(A))"
   ]
  },
  {
   "cell_type": "code",
   "execution_count": 52,
   "metadata": {},
   "outputs": [
    {
     "data": {
      "image/png": "[encoded data removed]",
      "text/plain": [
       "<Figure size 432x288 with 1 Axes>"
      ]
     },
     "metadata": {
      "needs_background": "light"
     },
     "output_type": "display_data"
    }
   ],
   "source": [
    "A = np.array([[1,1,4,5,5], [1, 2,1,1,2]]) #jednostavan primjer\n",
    "plt.plot(A[0,:],A[1,:], 'ro')\n",
    "plt.axis([0, 6, 0, 20])\n",
    "plt.show()"
   ]
  },
  {
   "cell_type": "code",
   "execution_count": 57,
   "metadata": {},
   "outputs": [
    {
     "name": "stdout",
     "output_type": "stream",
     "text": [
      "          0         1          2         3          4          5         6   \\\n",
      "0  11.043403  9.348916  10.126350  9.688700  10.549737  10.772891  9.391377   \n",
      "1   0.688788  3.110393   0.143129  1.703912   2.008606   1.998044  0.466984   \n",
      "\n",
      "          7          8          9   ...        90        91        92  \\\n",
      "0  10.800305  10.810683  11.778768  ... -2.522978 -2.776147 -3.989377   \n",
      "1   1.806137   3.123213   2.414622  ...  2.374985  4.059869  3.844397   \n",
      "\n",
      "         93        94        95        96        97        98        99  \n",
      "0 -3.653140 -5.817810 -5.346453 -5.001069 -3.948729 -4.131223 -2.825168  \n",
      "1  3.138594  3.329268  2.537913  0.894520  3.397864  4.029594  4.245119  \n",
      "\n",
      "[2 rows x 100 columns]\n"
     ]
    },
    {
     "name": "stderr",
     "output_type": "stream",
     "text": [
      "100%|██████████| 2/2 [00:00<00:00,  5.49it/s]"
     ]
    },
    {
     "name": "stdout",
     "output_type": "stream",
     "text": [
      "           0         0          0         0          0          0         0  \\\n",
      "0  11.043403  9.348916  10.126350  9.688700  10.549737  10.772891  9.391377   \n",
      "1   0.688788  3.110393   0.143129  1.703912   2.008606   1.998044  0.466984   \n",
      "\n",
      "           0          0          0  ...         1         1         1  \\\n",
      "0  10.800305  10.810683  11.778768  ... -2.522978 -2.776147 -3.989377   \n",
      "1   1.806137   3.123213   2.414622  ...  2.374985  4.059869  3.844397   \n",
      "\n",
      "          1         1         1         1         1         1         1  \n",
      "0 -3.653140 -5.817810 -5.346453 -5.001069 -3.948729 -4.131223 -2.825168  \n",
      "1  3.138594  3.329268  2.537913  0.894520  3.397864  4.029594  4.245119  \n",
      "\n",
      "[2 rows x 100 columns]\n",
      "   0_centroid_klastera  2_centroid_klastera\n",
      "0             9.959496            -4.056370\n",
      "1             1.930190             3.248904\n"
     ]
    },
    {
     "name": "stderr",
     "output_type": "stream",
     "text": [
      "\n"
     ]
    }
   ],
   "source": [
    "#\"\"\"\"\n",
    "centri = np.array([[10, 2], [-4, 3]], dtype=float)\n",
    "A = [np.random.randn(2, 50) + np.expand_dims(centar, axis=1) \n",
    "    for centar in centri]\n",
    "A = np.concatenate(A, axis=1)\n",
    "#\"\"\"\n",
    "\n",
    "A = pd.DataFrame(A)\n",
    "print(A)\n",
    "nmax = 2\n",
    "k = 3\n",
    "\n",
    "while True:\n",
    "    starting_partition = np.random.randint(0, k, A.shape[1])\n",
    "    s_i = np.unique(starting_partition, axis=0, return_counts=True)[1]\n",
    "    if len(s_i) == k:\n",
    "        break\n",
    "\n",
    "A.columns = starting_partition \n",
    "\n",
    "for n in tqdm(range(nmax)):\n",
    "    s_i = np.unique(starting_partition, axis=0, return_counts=True)[1]\n",
    "    a_i = A.groupby(level=0,axis=1).sum().add_suffix('_centroid_klastera')\n",
    "    m_i = a_i / s_i \n",
    "    for i in range(A.shape[1]): \n",
    "        distance_final = np.inf\n",
    "        for j in range(0, m_i.shape[1]):\n",
    "            distance = np.linalg.norm((A.iloc[:,i] - m_i.iloc[:,j]))\n",
    "            if(distance < distance_final):\n",
    "                distance_final = distance\n",
    "                tmp = list(A.columns)\n",
    "                tmp[i] = j\n",
    "                A.columns = tmp  \n",
    "    starting_partition = A.columns.values \n",
    "\n",
    "print(A)   \n",
    "print(m_i)"
   ]
  },
  {
   "cell_type": "code",
   "execution_count": 58,
   "metadata": {},
   "outputs": [
    {
     "data": {
      "image/png": "[encoded data removed]",
      "text/plain": [
       "<Figure size 432x288 with 1 Axes>"
      ]
     },
     "metadata": {
      "needs_background": "light"
     },
     "output_type": "display_data"
    }
   ],
   "source": [
    "plt.plot(A.iloc[0,:],A.iloc[1,:], 'ro')\n",
    "plt.plot(m_i.iloc[0,:],m_i.iloc[1,:], 'bx', ms=10)\n",
    "plt.show()\n",
    "#plavi centroidi"
   ]
  },
  {
   "cell_type": "code",
   "execution_count": null,
   "metadata": {},
   "outputs": [],
   "source": []
  }
 ],
 "metadata": {
  "interpreter": {
   "hash": "eeb592eeb14baf80ba7e3ad598b9cc718d92fa62785d72005ca19f7c0e0c833d"
  },
  "kernelspec": {
   "display_name": "Python 3.8.5 64-bit ('base': conda)",
   "language": "python",
   "name": "python3"
  },
  "language_info": {
   "codemirror_mode": {
    "name": "ipython",
    "version": 3
   },
   "file_extension": ".py",
   "mimetype": "text/x-python",
   "name": "python",
   "nbconvert_exporter": "python",
   "pygments_lexer": "ipython3",
   "version": "3.8.5"
  },
  "orig_nbformat": 4
 },
 "nbformat": 4,
 "nbformat_minor": 2
}
